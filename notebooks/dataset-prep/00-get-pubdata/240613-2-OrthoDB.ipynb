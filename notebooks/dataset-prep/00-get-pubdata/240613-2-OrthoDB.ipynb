{
 "cells": [
  {
   "cell_type": "markdown",
   "id": "04622e74-eefb-4deb-90f8-edc43cfd514c",
   "metadata": {},
   "source": [
    "# Data Download (2): OrthoDB v11\n",
    "\n",
    "Retry on Jun. 13, 2024 (to confirm reproducibility). \n",
    "\n",
    "URL: https://data.orthodb.org/download/\n",
    "\n",
    "OrthoDB v11: annotation of orthologs in the widest sampling of organismal diversity D Kuznetsov, F Tegenfeldt, M Manni, M Seppey, M Berkeley, EV Kriventseva, EM Zdobnov, NAR, Nov 2022, https://doi.org/10.1093/nar/gkac998"
   ]
  },
  {
   "cell_type": "code",
   "execution_count": 1,
   "id": "08bc5834-7cdb-4caf-9c10-e678803f728c",
   "metadata": {
    "tags": []
   },
   "outputs": [],
   "source": [
    "from myconfig import DATA_DIR\n",
    "\n",
    "DEST_DIR = DATA_DIR / 'pubdata' / 'orthodb11'"
   ]
  },
  {
   "cell_type": "code",
   "execution_count": 2,
   "id": "d0748d32-f0b5-4bba-ad9a-dabd90c90dc7",
   "metadata": {
    "tags": []
   },
   "outputs": [
    {
     "name": "stdout",
     "output_type": "stream",
     "text": [
      "2024-06-13 02:10:05 URL:https://data.orthodb.org/download/README.txt [3125/3125] -> \"/home/jovyan/data/pubdata/orthodb11/README.txt\" [1]\n",
      "2024-06-13 02:10:08 URL:https://data.orthodb.org/download/odb11v0_species.tab.gz [715226/715226] -> \"/home/jovyan/data/pubdata/orthodb11/odb11v0_species.tab.gz\" [1]\n",
      "2024-06-13 02:10:09 URL:https://data.orthodb.org/download/odb11v0_levels.tab.gz [16008/16008] -> \"/home/jovyan/data/pubdata/orthodb11/odb11v0_levels.tab.gz\" [1]\n",
      "2024-06-13 02:10:11 URL:https://data.orthodb.org/download/odb11v0_level2species.tab.gz [218695/218695] -> \"/home/jovyan/data/pubdata/orthodb11/odb11v0_level2species.tab.gz\" [1]\n",
      "2024-06-13 02:13:21 URL:https://data.orthodb.org/download/odb11v0_OGs.tab.gz [114958636/114958636] -> \"/home/jovyan/data/pubdata/orthodb11/odb11v0_OGs.tab.gz\" [1]\n"
     ]
    }
   ],
   "source": [
    "!wget -nv -P $DEST_DIR https://data.orthodb.org/download/README.txt\n",
    "!wget -nv -P $DEST_DIR https://data.orthodb.org/download/odb11v0_species.tab.gz\n",
    "!wget -nv -P $DEST_DIR https://data.orthodb.org/download/odb11v0_levels.tab.gz\n",
    "!wget -nv -P $DEST_DIR https://data.orthodb.org/download/odb11v0_level2species.tab.gz\n",
    "!wget -nv -P $DEST_DIR https://data.orthodb.org/download/odb11v0_OGs.tab.gz"
   ]
  },
  {
   "cell_type": "markdown",
   "id": "a251a12f-17a7-4c13-a1fa-d63eebfd228b",
   "metadata": {},
   "source": [
    "Downloads of the following two files were performed outside of this container (jupyter.sif) to use aria2c:\n",
    "\n",
    "```\n",
    "aria2c -x4 https://data.orthodb.org/download/odb11v0_OG2genes.tab.gz\n",
    "aria2c -x4 https://data.orthodb.org/download/odb11v0_OG_xrefs.tab.gz\n",
    "```"
   ]
  },
  {
   "cell_type": "code",
   "execution_count": 3,
   "id": "5a5fa663-b03f-4192-be76-9b671b0d53e5",
   "metadata": {
    "tags": []
   },
   "outputs": [
    {
     "name": "stdout",
     "output_type": "stream",
     "text": [
      "238d82e232c4c6992bf88e14f310d808  /home/jovyan/data/pubdata/orthodb11/odb11v0_level2species.tab.gz\n",
      "0c00c375f8fc89f3648c6e0988da6880  /home/jovyan/data/pubdata/orthodb11/odb11v0_levels.tab.gz\n",
      "5abb1ea21689f003cf8babe6917d28b8  /home/jovyan/data/pubdata/orthodb11/odb11v0_OG2genes.tab.gz\n",
      "da628e8b7e1cc1cab844f9918e53f60d  /home/jovyan/data/pubdata/orthodb11/odb11v0_OGs.tab.gz\n",
      "8f01a929dbe2ea9b6ec31c3eaff42e48  /home/jovyan/data/pubdata/orthodb11/odb11v0_OG_xrefs.tab.gz\n",
      "278ff72cc0e8a371c3d941af7ded055a  /home/jovyan/data/pubdata/orthodb11/odb11v0_species.tab.gz\n",
      "ee885ed15a45a1ba50e26bf66f3f124c  /home/jovyan/data/pubdata/orthodb11/README.txt\n"
     ]
    }
   ],
   "source": [
    "!md5sum $DEST_DIR/*"
   ]
  },
  {
   "cell_type": "code",
   "execution_count": null,
   "id": "f0f7c789-efac-40f7-8df8-3ecb6f799387",
   "metadata": {},
   "outputs": [],
   "source": []
  }
 ],
 "metadata": {
  "kernelspec": {
   "display_name": "Python 3 (ipykernel)",
   "language": "python",
   "name": "python3"
  },
  "language_info": {
   "codemirror_mode": {
    "name": "ipython",
    "version": 3
   },
   "file_extension": ".py",
   "mimetype": "text/x-python",
   "name": "python",
   "nbconvert_exporter": "python",
   "pygments_lexer": "ipython3",
   "version": "3.10.9"
  }
 },
 "nbformat": 4,
 "nbformat_minor": 5
}
