{
 "cells": [
  {
   "cell_type": "markdown",
   "id": "b2c69896-6acb-4722-9b35-2ee09dedc403",
   "metadata": {},
   "source": [
    "# Data Download (4): NCBI assembly summary"
   ]
  },
  {
   "cell_type": "markdown",
   "id": "17121d0f-d669-4071-868c-0909c59193f8",
   "metadata": {},
   "source": [
    "Retry on Jul. 6, 2024 (to confirm reproducibility).\n",
    "\n",
    "As the NCBI assembly summaries are updated very frequently, a current copy was also stored in the repository.\n",
    "\n",
    "URL: https://ftp.ncbi.nlm.nih.gov/genomes/refseq/vertebrate_other/"
   ]
  },
  {
   "cell_type": "code",
   "execution_count": 1,
   "id": "d3728482-6e9b-48f4-ae1f-7fb0b9e3d875",
   "metadata": {
    "tags": []
   },
   "outputs": [],
   "source": [
    "from myconfig import METADATA_DIR"
   ]
  },
  {
   "cell_type": "code",
   "execution_count": 2,
   "id": "b48f6619-06e4-48f6-be41-32268e93b0bb",
   "metadata": {
    "tags": []
   },
   "outputs": [
    {
     "name": "stdout",
     "output_type": "stream",
     "text": [
      "2024-07-06 15:19:30 URL: ftp://ftp.ncbi.nlm.nih.gov/genomes/refseq/vertebrate_other/assembly_summary.txt [196070] -> \"-\" [1]\n",
      "2024-07-06 15:19:32 URL: ftp://ftp.ncbi.nlm.nih.gov/genomes/refseq/vertebrate_other/assembly_summary_historical.txt [72219] -> \"-\" [1]\n"
     ]
    }
   ],
   "source": [
    "!wget -nv -O - ftp://ftp.ncbi.nlm.nih.gov/genomes/refseq/vertebrate_other/assembly_summary.txt | bzip2 -c --best > {METADATA_DIR}/assembly_summary-vertebrate_other-refseq-240706.txt.bz2\n",
    "!wget -nv -O - ftp://ftp.ncbi.nlm.nih.gov/genomes/refseq/vertebrate_other/assembly_summary_historical.txt | bzip2 -c --best > {METADATA_DIR}/assembly_summary_historical-vertebrate_other-refseq-240706.txt.bz2"
   ]
  },
  {
   "cell_type": "code",
   "execution_count": 3,
   "id": "a52f7c04-0057-4fad-8a39-b22071b46f77",
   "metadata": {
    "tags": []
   },
   "outputs": [
    {
     "name": "stdout",
     "output_type": "stream",
     "text": [
      "28273b2d6285ea7517ce7269f32707e3  /home/jovyan/metadata/assembly_summary_historical-vertebrate_other-refseq-240706.txt.bz2\n",
      "97987d3f670a2054b719998070d4e86e  /home/jovyan/metadata/assembly_summary-vertebrate_other-refseq-240706.txt.bz2\n"
     ]
    }
   ],
   "source": [
    "!md5sum {METADATA_DIR}/*"
   ]
  },
  {
   "cell_type": "code",
   "execution_count": null,
   "id": "6066284b-34b0-410a-aa18-d47a7639a0d3",
   "metadata": {},
   "outputs": [],
   "source": []
  }
 ],
 "metadata": {
  "kernelspec": {
   "display_name": "Python 3 (ipykernel)",
   "language": "python",
   "name": "python3"
  },
  "language_info": {
   "codemirror_mode": {
    "name": "ipython",
    "version": 3
   },
   "file_extension": ".py",
   "mimetype": "text/x-python",
   "name": "python",
   "nbconvert_exporter": "python",
   "pygments_lexer": "ipython3",
   "version": "3.10.9"
  }
 },
 "nbformat": 4,
 "nbformat_minor": 5
}
