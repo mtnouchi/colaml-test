{
 "cells": [
  {
   "cell_type": "markdown",
   "id": "b2c69896-6acb-4722-9b35-2ee09dedc403",
   "metadata": {},
   "source": [
    "# Data Download (3): the Fish Tree of Life"
   ]
  },
  {
   "cell_type": "markdown",
   "id": "17121d0f-d669-4071-868c-0909c59193f8",
   "metadata": {},
   "source": [
    "Retry on Jul. 6, 2024 (to confirm reproducibility).\n",
    "\n",
    "URL: https://fishtreeoflife.org/downloads/\n",
    "\n",
    "Citation:  \n",
    "Daniel L. Rabosky*, Jonathan Chang*, Pascal O. Title*, Peter F. Cowman, Lauren Sallan, Matt Friedman, Kristin Kaschner, Cristina Garilao, Thomas J. Near, Marta Coll, Michael E. Alfaro* (2018). An inverse latitudinal gradient in speciation rate for marine fishes. Nature, 559(7714), 392–395 doi:10.1038/s41586-018-0273-1"
   ]
  },
  {
   "cell_type": "code",
   "execution_count": 1,
   "id": "d3728482-6e9b-48f4-ae1f-7fb0b9e3d875",
   "metadata": {
    "tags": []
   },
   "outputs": [],
   "source": [
    "from myconfig import PUBDATA_DIR\n",
    "\n",
    "DEST_DIR = PUBDATA_DIR / 'fishtree'"
   ]
  },
  {
   "cell_type": "code",
   "execution_count": 2,
   "id": "b48f6619-06e4-48f6-be41-32268e93b0bb",
   "metadata": {
    "tags": []
   },
   "outputs": [
    {
     "name": "stdout",
     "output_type": "stream",
     "text": [
      "2024-07-06 14:20:41 URL:https://fishtreeoflife.org/downloads/actinopt_12k_treePL.tre.xz [169948/169948] -> \"/home/jovyan/data/pubdata/fishtree/actinopt_12k_treePL.tre.xz\" [1]\n",
      "2024-07-06 14:20:42 URL:https://fishtreeoflife.org/downloads/PFC_taxonomy.csv.xz [213456/213456] -> \"/home/jovyan/data/pubdata/fishtree/PFC_taxonomy.csv.xz\" [1]\n"
     ]
    }
   ],
   "source": [
    "!wget -nv -P {DEST_DIR} https://fishtreeoflife.org/downloads/actinopt_12k_treePL.tre.xz\n",
    "!wget -nv -P {DEST_DIR} https://fishtreeoflife.org/downloads/PFC_taxonomy.csv.xz"
   ]
  },
  {
   "cell_type": "code",
   "execution_count": 3,
   "id": "a52f7c04-0057-4fad-8a39-b22071b46f77",
   "metadata": {
    "tags": []
   },
   "outputs": [
    {
     "name": "stdout",
     "output_type": "stream",
     "text": [
      "226be1480e872fefd1704d51871a5fe3  /home/jovyan/data/pubdata/fishtree/actinopt_12k_treePL.tre.xz\n",
      "eae5b5154ffcbbf4f23f60a0fa4c7d65  /home/jovyan/data/pubdata/fishtree/PFC_taxonomy.csv.xz\n"
     ]
    }
   ],
   "source": [
    "!md5sum {DEST_DIR}/*"
   ]
  },
  {
   "cell_type": "code",
   "execution_count": null,
   "id": "f8440283-6f5f-4ed4-80d4-33d2440c6710",
   "metadata": {},
   "outputs": [],
   "source": []
  }
 ],
 "metadata": {
  "kernelspec": {
   "display_name": "Python 3 (ipykernel)",
   "language": "python",
   "name": "python3"
  },
  "language_info": {
   "codemirror_mode": {
    "name": "ipython",
    "version": 3
   },
   "file_extension": ".py",
   "mimetype": "text/x-python",
   "name": "python",
   "nbconvert_exporter": "python",
   "pygments_lexer": "ipython3",
   "version": "3.10.9"
  }
 },
 "nbformat": 4,
 "nbformat_minor": 5
}
