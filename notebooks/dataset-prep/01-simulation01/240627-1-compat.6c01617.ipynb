{
 "cells": [
  {
   "cell_type": "markdown",
   "id": "9c79fe0f-17a5-4901-9aaf-3baafbfa59d4",
   "metadata": {},
   "source": [
    "# Generate synthetic data (1) -- compatibility check"
   ]
  },
  {
   "cell_type": "code",
   "execution_count": 1,
   "id": "8e42f79f-3c88-427d-8f46-9de6676e69c3",
   "metadata": {
    "tags": []
   },
   "outputs": [],
   "source": [
    "import json, gzip\n",
    "\n",
    "import numpy as np\n",
    "import pandas as pd\n",
    "import matplotlib.pyplot as plt\n",
    "import seaborn as sns\n",
    "from ete3 import Tree\n",
    "\n",
    "from colaml import *\n",
    "from colaml.misc import dataplot, modelplot\n",
    "from myconfig import DATASET_DIR"
   ]
  },
  {
   "cell_type": "code",
   "execution_count": 2,
   "id": "a9c13081-dac6-4b7f-b016-e9e2e922e322",
   "metadata": {
    "tags": []
   },
   "outputs": [
    {
     "name": "stdout",
     "output_type": "stream",
     "text": [
      "0.1.dev14+g6c01617\n"
     ]
    }
   ],
   "source": [
    "import colaml\n",
    "print(colaml.__version__)"
   ]
  },
  {
   "cell_type": "code",
   "execution_count": 3,
   "id": "bd45867d-2a88-4856-ab02-bb6f93ddc60a",
   "metadata": {
    "tags": []
   },
   "outputs": [
    {
     "data": {
      "text/plain": [
       "<threadpoolctl.threadpool_limits at 0x7f75bb9198d0>"
      ]
     },
     "execution_count": 3,
     "metadata": {},
     "output_type": "execute_result"
    }
   ],
   "source": [
    "from threadpoolctl import threadpool_limits\n",
    "threadpool_limits(1, user_api='blas')"
   ]
  },
  {
   "cell_type": "markdown",
   "id": "155ac80a-1774-4cfa-990c-bacb6b749fb9",
   "metadata": {},
   "source": [
    "## Copy number frequency\n",
    "\n",
    "- To reduce too rare orthologs, the percentage of zero-copies was set lower than in typical real data sets.\n",
    "- On the other hand, to evaluate the accuracy of root frequency estimation, the percentage of two or more copies was set higher."
   ]
  },
  {
   "cell_type": "code",
   "execution_count": 4,
   "id": "2af041fe-3f28-4eb8-a82f-d514e6b63fc1",
   "metadata": {
    "tags": []
   },
   "outputs": [
    {
     "name": "stdout",
     "output_type": "stream",
     "text": [
      "[0.193 0.501 0.18  0.067 0.029 0.014 0.017]\n"
     ]
    },
    {
     "data": {
      "image/png": "[encoded data removed]",
      "text/plain": [
       "<Figure size 640x480 with 1 Axes>"
      ]
     },
     "metadata": {},
     "output_type": "display_data"
    }
   ],
   "source": [
    "def discretized_lognorm_pmf(lmax, shape, loc=0.5):\n",
    "    from scipy.stats import lognorm\n",
    "    return np.diff(lognorm.cdf(np.append(np.arange(lmax+1), np.inf), s=shape, loc=loc))\n",
    "\n",
    "pd.Series(discretized_lognorm_pmf(6, 0.8, 0.5)).plot.bar(width=0.8)\n",
    "\n",
    "with np.printoptions(precision=3):\n",
    "    print(discretized_lognorm_pmf(6, 0.8, 0.5))"
   ]
  },
  {
   "cell_type": "markdown",
   "id": "95fe5974-6a31-4fb5-9d4c-75e59ad05e3f",
   "metadata": {},
   "source": [
    "## Generate\n",
    "\n",
    "- $r \\sim \\Gamma(2, 0.10/2)$\n",
    "- $s \\sim \\Gamma(3, 0.01/2)$\n",
    "- $\\pi \\sim \\operatorname{Dir}(\\text{[see above]} * 20)$\n",
    "- $\\phi \\sim \\operatorname{Dir}(20, 20, ...)$"
   ]
  },
  {
   "cell_type": "code",
   "execution_count": 5,
   "id": "c13bb85d-75cd-4ab3-90ff-25a5ca8ca607",
   "metadata": {},
   "outputs": [],
   "source": [
    "SIM01_DIR = DATASET_DIR/'01-simulation01'\n",
    "conditions = pd.read_csv(SIM01_DIR/'conditions.tsv', sep='\\t')"
   ]
  },
  {
   "cell_type": "code",
   "execution_count": 6,
   "id": "95b361a3-6ac8-4112-adf9-625cec5fd4ed",
   "metadata": {
    "tags": []
   },
   "outputs": [],
   "source": [
    "from colaml.__main__ import CoLaMLEncoder"
   ]
  },
  {
   "cell_type": "code",
   "execution_count": 7,
   "id": "d8c39e06-0abf-4226-93b5-74313f2807d2",
   "metadata": {
    "tags": []
   },
   "outputs": [],
   "source": [
    "rng = np.random.default_rng(seed=718326645216)\n",
    "\n",
    "for cond in conditions.itertuples(index=False):\n",
    "    init_model = dict(\n",
    "        ncharstates = cond.lmax + 1, \n",
    "        ncategories = cond.ncat, \n",
    "        invariant_cat = False, \n",
    "        prior_kw = None, \n",
    "        init_params_method = 'skip'\n",
    "    )\n",
    "    distr_kw = dict(\n",
    "        cpy_root_probs=discretized_lognorm_pmf(cond.lmax, 0.8, 0.5) * 20, \n",
    "        cat_root_probs=np.full(cond.ncat, 20), \n",
    "        cpy_change_rates=(2, 0.10 / 2), \n",
    "        cat_switch_rates=(3, 0.01 / 3)\n",
    "    )\n",
    "    mmm = MarkovModulatedTreeModel(substmodelclass=MarkovModulatedBDARD, **init_model)\n",
    "    \n",
    "    (SIM01_DIR.with_suffix('.tmp')/cond.conditionID).mkdir(exist_ok=True)\n",
    "    for rep in range(1, 11):\n",
    "        rng_bgstate = rng.bit_generator.state\n",
    "        tree = Tree(f'./rphylo/{cond.conditionID}-{rep:02d}.tree', format=1)\n",
    "        mmm.init_params_random(rng, distr_kw=distr_kw)\n",
    "        sim = mmm.simulate(tree, cond.nOGs, rng)\n",
    "        columns = [*range(cond.nOGs)]\n",
    "        \n",
    "        data = dict(\n",
    "            tree = Tree.write(sim.tree.to_ete3(), format=3, format_root_node=True),\n",
    "            OGs = pd.DataFrame.from_dict(\n",
    "                sim.drop_past().to_dict(copy=False), columns=columns, orient='index'\n",
    "            ).to_dict(orient='split'),\n",
    "            init_model = init_model, \n",
    "            model = 'mmm', \n",
    "            params = mmm._decompress_flat_params(mmm.flat_params), \n",
    "            recon = pd.DataFrame.from_dict(\n",
    "                sim.to_dict(copy=False), columns=columns, orient='index'\n",
    "            ).to_dict(orient='split'),\n",
    "            otherstates=[\n",
    "                dict(\n",
    "                    label=other.label,\n",
    "                    states=pd.DataFrame.from_dict(\n",
    "                        other.to_dict(copy=False), columns=columns, orient='index'\n",
    "                    ).to_dict(orient='split')\n",
    "                )\n",
    "                for other in sim.otherstates.values()\n",
    "            ],\n",
    "            colattrs=[\n",
    "                dict(name=colattr.label, index=columns, data=colattr.to_list(copy=False))\n",
    "                for colattr in sim.colattrs.values()\n",
    "            ],\n",
    "            nodeattrs=[\n",
    "                dict(\n",
    "                    name=nodeattr.label,\n",
    "                    index=[*nodeattr.to_dict(copy=False).keys()],\n",
    "                    data=[*nodeattr.to_dict(copy=False).values()],\n",
    "                )\n",
    "                for nodeattr in sim.nodeattrs.values()\n",
    "            ]\n",
    "        )\n",
    "        \n",
    "        with gzip.open(SIM01_DIR.with_suffix('.tmp')/cond.conditionID/f'{cond.conditionID}-rep{rep:02d}.json.gz', 'wt') as file:\n",
    "            json.dump(data, file, indent=2, cls=CoLaMLEncoder)"
   ]
  },
  {
   "cell_type": "code",
   "execution_count": 8,
   "id": "58bb069a-d513-4a77-8d7d-86f14b77e319",
   "metadata": {
    "tags": []
   },
   "outputs": [],
   "source": [
    "!find '/home/jovyan/datasets/01-simulation01' -type f -name '*.gz' -exec bash -c \"zdiff {} \\`echo {} | sed -e 's/01-simulation01/01-simulation01.tmp/'\\`\" \\;"
   ]
  },
  {
   "cell_type": "markdown",
   "id": "b83d06fe-8652-4c7a-b06f-74c0d9db544d",
   "metadata": {},
   "source": [
    "The output is exactly the same as in the previous version, which is obvious since the relevant parts have not been changed."
   ]
  },
  {
   "cell_type": "code",
   "execution_count": 9,
   "id": "a85b2860-daac-4600-be16-68943f2bbdfe",
   "metadata": {
    "tags": []
   },
   "outputs": [],
   "source": [
    "!rm -r /home/jovyan/datasets/01-simulation01.tmp"
   ]
  },
  {
   "cell_type": "code",
   "execution_count": null,
   "id": "cae4d686-4629-4eef-87ce-d67900eb4275",
   "metadata": {},
   "outputs": [],
   "source": []
  }
 ],
 "metadata": {
  "kernelspec": {
   "display_name": "Python 3 (ipykernel)",
   "language": "python",
   "name": "python3"
  },
  "language_info": {
   "codemirror_mode": {
    "name": "ipython",
    "version": 3
   },
   "file_extension": ".py",
   "mimetype": "text/x-python",
   "name": "python",
   "nbconvert_exporter": "python",
   "pygments_lexer": "ipython3",
   "version": "3.10.9"
  }
 },
 "nbformat": 4,
 "nbformat_minor": 5
}
