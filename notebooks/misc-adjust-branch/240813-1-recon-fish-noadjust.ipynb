{
 "cells": [
  {
   "cell_type": "code",
   "execution_count": 1,
   "id": "4741744f-905c-4802-9556-9f4fc63f5dbe",
   "metadata": {
    "tags": []
   },
   "outputs": [],
   "source": [
    "from myconfig import DATA_DIR, ROOT_DIR"
   ]
  },
  {
   "cell_type": "code",
   "execution_count": 2,
   "id": "665ade6d-2a48-4cf6-8834-240b85bfb3cd",
   "metadata": {
    "tags": []
   },
   "outputs": [
    {
     "name": "stdout",
     "output_type": "stream",
     "text": [
      "CoLaML v0.1.dev14+g6c01617\n",
      "\u001b[0m"
     ]
    }
   ],
   "source": [
    "!colaml --version"
   ]
  },
  {
   "cell_type": "code",
   "execution_count": 3,
   "id": "b65d014b-08f2-4fd8-9d67-ecd697a79f2e",
   "metadata": {
    "tags": []
   },
   "outputs": [
    {
     "name": "stdout",
     "output_type": "stream",
     "text": [
      "\u001b[0m"
     ]
    }
   ],
   "source": [
    "!colaml recon -i {DATA_DIR}/misc-adjust-branch/fish-lmax2-filt05-noadjust.json.gz \\\n",
    "              -m {ROOT_DIR}/results/fish-lmax2-filt05-noadjust.bestfit.json.gz \\\n",
    "              -o {ROOT_DIR}/results/fish-lmax2-filt05-noadjust-mrglrecon.json.gz \\\n",
    "              --method marginal"
   ]
  },
  {
   "cell_type": "code",
   "execution_count": null,
   "id": "8b585f27-bb96-48a1-b706-6087164fd543",
   "metadata": {},
   "outputs": [],
   "source": []
  }
 ],
 "metadata": {
  "kernelspec": {
   "display_name": "Python 3 (ipykernel)",
   "language": "python",
   "name": "python3"
  },
  "language_info": {
   "codemirror_mode": {
    "name": "ipython",
    "version": 3
   },
   "file_extension": ".py",
   "mimetype": "text/x-python",
   "name": "python",
   "nbconvert_exporter": "python",
   "pygments_lexer": "ipython3",
   "version": "3.10.9"
  }
 },
 "nbformat": 4,
 "nbformat_minor": 5
}
