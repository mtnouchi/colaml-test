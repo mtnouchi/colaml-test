{
 "cells": [
  {
   "cell_type": "markdown",
   "id": "a8d62a2b-7ea8-465a-bb2c-9092675c6d51",
   "metadata": {},
   "source": [
    "# Post-processing (2/n)\n",
    "\n",
    "Compute log-likelihood for the fish CV datasets"
   ]
  },
  {
   "cell_type": "code",
   "execution_count": 1,
   "id": "5c0f5df3-9d50-4d72-a3a9-48093a07d390",
   "metadata": {
    "tags": []
   },
   "outputs": [],
   "source": [
    "import gzip, json\n",
    "from functools import cache\n",
    "from multiprocessing import Pool\n",
    "from operator import itemgetter\n",
    "\n",
    "import numpy as np\n",
    "import pandas as pd\n",
    "import matplotlib.pyplot as plt\n",
    "import seaborn as sns\n",
    "from tqdm.auto import tqdm\n",
    "\n",
    "from colaml.__main__ import model_from_json, phytbl_from_json\n",
    "    \n",
    "from myconfig import ROOT_DIR, DATA_DIR, DATASET_DIR"
   ]
  },
  {
   "cell_type": "code",
   "execution_count": 2,
   "id": "c527b82b-eb49-4ef2-bdb4-8338863c48b1",
   "metadata": {
    "tags": []
   },
   "outputs": [
    {
     "data": {
      "text/plain": [
       "<threadpoolctl.threadpool_limits at 0x7fe1a9a8a740>"
      ]
     },
     "execution_count": 2,
     "metadata": {},
     "output_type": "execute_result"
    }
   ],
   "source": [
    "from threadpoolctl import threadpool_limits\n",
    "threadpool_limits(1)"
   ]
  },
  {
   "cell_type": "code",
   "execution_count": 3,
   "id": "81252541-33f3-47dd-b436-11640c0ae2ee",
   "metadata": {
    "tags": []
   },
   "outputs": [
    {
     "data": {
      "text/plain": [
       "'0.1.dev14+g6c01617'"
      ]
     },
     "execution_count": 3,
     "metadata": {},
     "output_type": "execute_result"
    }
   ],
   "source": [
    "import colaml\n",
    "colaml.__version__"
   ]
  },
  {
   "cell_type": "code",
   "execution_count": 4,
   "id": "8c14ace8-01b4-4ba8-93d6-0e2cd550a436",
   "metadata": {
    "tags": []
   },
   "outputs": [],
   "source": [
    "conditions = pd.read_csv('conditions-main.tsv', sep='\\t')\n",
    "\n",
    "jobs = pd.read_csv(\n",
    "    '240717-batch-job-array-fish-map.txt', sep='\\t'\n",
    ").assign(testfile=lambda df: df.infile.str.replace('train', 'test'))"
   ]
  },
  {
   "cell_type": "markdown",
   "id": "497f050f-9ca4-48ba-b823-dbee82f0b9bc",
   "metadata": {},
   "source": [
    "## Log-likelihood computation"
   ]
  },
  {
   "cell_type": "code",
   "execution_count": 5,
   "id": "41f93ae3-f623-4ce6-af23-50c1510f008f",
   "metadata": {
    "tags": []
   },
   "outputs": [],
   "source": [
    "def batch_loglik(job):\n",
    "    phytbl_train, _ = phytbl_from_json(ROOT_DIR/job.infile  , job.lmax)\n",
    "    phytbl_test , _ = phytbl_from_json(ROOT_DIR/job.testfile, job.lmax)\n",
    "\n",
    "    loglik_train = loglik_test = np.nan\n",
    "\n",
    "    try:\n",
    "        model = model_from_json(ROOT_DIR/job.outfile)\n",
    "        \n",
    "        stats_train = model.sufficient_stats(phytbl_train)\n",
    "        loglik_train = stats_train.col_loglik.sum()\n",
    "        \n",
    "        stats_test = model.sufficient_stats(phytbl_test)\n",
    "        loglik_test = stats_test.col_loglik.sum()\n",
    "    \n",
    "    except Exception:\n",
    "        pass\n",
    "    \n",
    "    return dict(\n",
    "        **job.loc[['conditionID', 'fold', 'fit_rep']].to_dict(), \n",
    "        ncols_train = phytbl_train.ncols,\n",
    "        ncols_test = phytbl_test.ncols,\n",
    "        loglik_train = loglik_train, \n",
    "        loglik_test = loglik_test\n",
    "    )"
   ]
  },
  {
   "cell_type": "code",
   "execution_count": 6,
   "id": "e0684362-6b82-46ce-bb05-581f3ab61266",
   "metadata": {
    "tags": []
   },
   "outputs": [
    {
     "data": {
      "application/vnd.jupyter.widget-view+json": {
       "model_id": "7bfc38ea5d714be3bc26bbc51e5c932b",
       "version_major": 2,
       "version_minor": 0
      },
      "text/plain": [
       "0it [00:00, ?it/s]"
      ]
     },
     "metadata": {},
     "output_type": "display_data"
    }
   ],
   "source": [
    "with Pool(16) as pool:\n",
    "    loglik = pd.DataFrame(tqdm(pool.imap(\n",
    "        batch_loglik, map(itemgetter(1), jobs.iterrows())\n",
    "    )))"
   ]
  },
  {
   "cell_type": "markdown",
   "id": "5c22c842-a802-47a4-89c2-1136e5283f6c",
   "metadata": {},
   "source": [
    "## Inspect"
   ]
  },
  {
   "cell_type": "code",
   "execution_count": 7,
   "id": "a8db2ed5-3ae6-472e-8c47-4b00bbcf6058",
   "metadata": {},
   "outputs": [
    {
     "data": {
      "text/html": [
       "<div>\n",
       "<style scoped>\n",
       "    .dataframe tbody tr th:only-of-type {\n",
       "        vertical-align: middle;\n",
       "    }\n",
       "\n",
       "    .dataframe tbody tr th {\n",
       "        vertical-align: top;\n",
       "    }\n",
       "\n",
       "    .dataframe thead th {\n",
       "        text-align: right;\n",
       "    }\n",
       "</style>\n",
       "<table border=\"1\" class=\"dataframe\">\n",
       "  <thead>\n",
       "    <tr style=\"text-align: right;\">\n",
       "      <th></th>\n",
       "      <th>conditionID</th>\n",
       "      <th>fold</th>\n",
       "      <th>fit_rep</th>\n",
       "      <th>ncols_train</th>\n",
       "      <th>ncols_test</th>\n",
       "      <th>loglik_train</th>\n",
       "      <th>loglik_test</th>\n",
       "    </tr>\n",
       "  </thead>\n",
       "  <tbody>\n",
       "  </tbody>\n",
       "</table>\n",
       "</div>"
      ],
      "text/plain": [
       "Empty DataFrame\n",
       "Columns: [conditionID, fold, fit_rep, ncols_train, ncols_test, loglik_train, loglik_test]\n",
       "Index: []"
      ]
     },
     "execution_count": 7,
     "metadata": {},
     "output_type": "execute_result"
    }
   ],
   "source": [
    "loglik.loc[loglik[['loglik_train', 'loglik_test']].isna().any(axis=1)]"
   ]
  },
  {
   "cell_type": "markdown",
   "id": "8258f73a-a7f1-4025-8c61-e4cd6c1a1512",
   "metadata": {},
   "source": [
    "## Save"
   ]
  },
  {
   "cell_type": "code",
   "execution_count": 8,
   "id": "d1219bfe-1f0b-463a-86aa-aa0577121c34",
   "metadata": {
    "tags": []
   },
   "outputs": [],
   "source": [
    "loglik.to_pickle(DATA_DIR/'post-batch'/'03-fish-map'/'loglik-main.pkl.bz2')"
   ]
  },
  {
   "cell_type": "code",
   "execution_count": null,
   "id": "4acf5eda-6f42-43d6-bf45-c0a4a8e6590a",
   "metadata": {},
   "outputs": [],
   "source": []
  }
 ],
 "metadata": {
  "kernelspec": {
   "display_name": "Python 3 (ipykernel)",
   "language": "python",
   "name": "python3"
  },
  "language_info": {
   "codemirror_mode": {
    "name": "ipython",
    "version": 3
   },
   "file_extension": ".py",
   "mimetype": "text/x-python",
   "name": "python",
   "nbconvert_exporter": "python",
   "pygments_lexer": "ipython3",
   "version": "3.10.9"
  }
 },
 "nbformat": 4,
 "nbformat_minor": 5
}
