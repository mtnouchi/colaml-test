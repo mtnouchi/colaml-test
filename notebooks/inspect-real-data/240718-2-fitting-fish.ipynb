{
 "cells": [
  {
   "cell_type": "markdown",
   "id": "62335bba-3b04-4181-a9ff-b03ef8ab2da7",
   "metadata": {},
   "source": [
    "# Inspecting the empirical datasets (2/n): Fitting -- the Fish dataset\n",
    "\n",
    "1. Prefilter: Drop genes present in <=5% species)\n",
    "2. EM run x 10: lmax=2, ncat=3; default CLI (same procedure as [a cross validation test](../fit-to-real-data/240707-1-fitting-main-fish.ipynb))\n",
    "3. Find the best run"
   ]
  },
  {
   "cell_type": "code",
   "execution_count": 1,
   "id": "1d77ea04-0b75-424d-a1ea-39a9831475cb",
   "metadata": {
    "tags": []
   },
   "outputs": [],
   "source": [
    "import gzip\n",
    "import json\n",
    "import shutil\n",
    "from multiprocessing import Pool\n",
    "from operator import attrgetter, itemgetter, methodcaller\n",
    "from pathlib import Path\n",
    "\n",
    "import numpy as np\n",
    "import pandas as pd\n",
    "import matplotlib.pyplot as plt\n",
    "from tqdm.auto import tqdm\n",
    "\n",
    "from colaml import *\n",
    "from colaml.misc import parsimony\n",
    "from colaml.__main__ import phytbl_from_json, model_from_json\n",
    "from myconfig import DATASET_DIR, DATA_DIR, ROOT_DIR\n",
    "from mydata import filter_table"
   ]
  },
  {
   "cell_type": "code",
   "execution_count": 2,
   "id": "4046e7d9-cbaf-4562-9690-3b9faf33c047",
   "metadata": {
    "tags": []
   },
   "outputs": [
    {
     "data": {
      "text/plain": [
       "<threadpoolctl.threadpool_limits at 0x7f9b335fb9d0>"
      ]
     },
     "execution_count": 2,
     "metadata": {},
     "output_type": "execute_result"
    }
   ],
   "source": [
    "from threadpoolctl import threadpool_limits\n",
    "threadpool_limits(1, user_api='blas')"
   ]
  },
  {
   "cell_type": "code",
   "execution_count": 3,
   "id": "f8aad475-797e-430c-9c4f-00062d4ae39d",
   "metadata": {},
   "outputs": [],
   "source": [
    "lmax, ncat = 2, 3\n",
    "WORK_DIR = DATA_DIR/'inspect-real-data'/'fish'"
   ]
  },
  {
   "cell_type": "markdown",
   "id": "7f3ab186-6213-40d7-a162-9375ca1b3770",
   "metadata": {},
   "source": [
    "## Data preproc"
   ]
  },
  {
   "cell_type": "code",
   "execution_count": 4,
   "id": "fa91397c-1975-452a-8037-a302a36e5fd0",
   "metadata": {
    "tags": []
   },
   "outputs": [],
   "source": [
    "dataset_path = DATASET_DIR/'03-fish'/'fish-main-v0.json.gz'\n",
    "phytbl, columns = filter_table(\n",
    "    *phytbl_from_json(dataset_path, lmax), max_missing=0.05, adjust_branch=True\n",
    ")"
   ]
  },
  {
   "cell_type": "code",
   "execution_count": 5,
   "id": "25c46802-6741-4261-9ad3-c72a8b7aca4f",
   "metadata": {
    "tags": []
   },
   "outputs": [],
   "source": [
    "with gzip.open(WORK_DIR/f'fish-lmax{lmax}-filt05.json.gz', 'wt') as file:\n",
    "    json.dump({\n",
    "        'tree': phytbl.tree.to_ete3().write(format=3, format_root_node=True), \n",
    "        'OGs' : pd.DataFrame.from_dict(\n",
    "            phytbl.to_dict(), orient='index', columns=columns\n",
    "        ).to_dict(orient='split')\n",
    "    }, file, indent=2)"
   ]
  },
  {
   "cell_type": "markdown",
   "id": "b4ccd918-265b-4901-b4ac-90c042e27830",
   "metadata": {},
   "source": [
    "## Run EM 10 times"
   ]
  },
  {
   "cell_type": "code",
   "execution_count": 6,
   "id": "1f5a524e-8b20-4664-9654-1803ea4fc84f",
   "metadata": {
    "tags": []
   },
   "outputs": [
    {
     "data": {
      "application/vnd.jupyter.widget-view+json": {
       "model_id": "c8b0fb2e8b164c55b9c12b9b94d9f4e0",
       "version_major": 2,
       "version_minor": 0
      },
      "text/plain": [
       "0it [00:00, ?it/s]"
      ]
     },
     "metadata": {},
     "output_type": "display_data"
    },
    {
     "name": "stdout",
     "output_type": "stream",
     "text": [
      "+ colaml fit mmm -i /home/jovyan/data/inspect-real-data/fish/fish-lmax2-filt05.json.gz -o /home/jovyan/data/inspect-real-data/fish/fish-lmax2-filt05.fit09.json.gz --lmax 2 --ncat 3 --seed 52614 -q\n",
      "+ colaml fit mmm -i /home/jovyan/data/inspect-real-data/fish/fish-lmax2-filt05.json.gz -o /home/jovyan/data/inspect-real-data/fish/fish-lmax2-filt05.fit08.json.gz --lmax 2 --ncat 3 --seed 26802 -q\n",
      "+ colaml fit mmm -i /home/jovyan/data/inspect-real-data/fish/fish-lmax2-filt05.json.gz -o /home/jovyan/data/inspect-real-data/fish/fish-lmax2-filt05.fit03.json.gz --lmax 2 --ncat 3 --seed 50712 -q\n",
      "+ colaml fit mmm -i /home/jovyan/data/inspect-real-data/fish/fish-lmax2-filt05.json.gz -o /home/jovyan/data/inspect-real-data/fish/fish-lmax2-filt05.fit01.json.gz --lmax 2 --ncat 3 --seed 41811 -q\n",
      "+ colaml fit mmm -i /home/jovyan/data/inspect-real-data/fish/fish-lmax2-filt05.json.gz -o /home/jovyan/data/inspect-real-data/fish/fish-lmax2-filt05.fit06.json.gz --lmax 2 --ncat 3 --seed 44447 -q\n",
      "+ colaml fit mmm -i /home/jovyan/data/inspect-real-data/fish/fish-lmax2-filt05.json.gz -o /home/jovyan/data/inspect-real-data/fish/fish-lmax2-filt05.fit04.json.gz --lmax 2 --ncat 3 --seed 26206 -q\n",
      "+ colaml fit mmm -i /home/jovyan/data/inspect-real-data/fish/fish-lmax2-filt05.json.gz -o /home/jovyan/data/inspect-real-data/fish/fish-lmax2-filt05.fit02.json.gz --lmax 2 --ncat 3 --seed 14556 -q\n",
      "+ colaml fit mmm -i /home/jovyan/data/inspect-real-data/fish/fish-lmax2-filt05.json.gz -o /home/jovyan/data/inspect-real-data/fish/fish-lmax2-filt05.fit07.json.gz --lmax 2 --ncat 3 --seed 31513 -q\n",
      "+ colaml fit mmm -i /home/jovyan/data/inspect-real-data/fish/fish-lmax2-filt05.json.gz -o /home/jovyan/data/inspect-real-data/fish/fish-lmax2-filt05.fit05.json.gz --lmax 2 --ncat 3 --seed 17105 -q\n",
      "+ colaml fit mmm -i /home/jovyan/data/inspect-real-data/fish/fish-lmax2-filt05.json.gz -o /home/jovyan/data/inspect-real-data/fish/fish-lmax2-filt05.fit10.json.gz --lmax 2 --ncat 3 --seed 55403 -q\n",
      "\u001b[0m\u001b[0m\u001b[0m\u001b[0m\u001b[0m\u001b[0m\u001b[0m\u001b[0m\u001b[0m\u001b[0m"
     ]
    }
   ],
   "source": [
    "root_seed = 42\n",
    "jobs = pd.DataFrame([\n",
    "    (i, WORK_DIR/'fish-lmax2-filt05.json.gz', WORK_DIR/f'fish-lmax2-filt05.fit{i:02d}.json.gz')\n",
    "    for i in range(1, 11)\n",
    "], columns=['repid', 'input_file', 'output_file'])\n",
    "\n",
    "def colaml_ezbatch(job):\n",
    "    seed = np.random.default_rng([root_seed, job.repid]).integers(2**16)\n",
    "    !set -x && colaml fit mmm -i {job.input_file} -o {job.output_file} \\\n",
    "                              --lmax {lmax} --ncat {ncat} --seed {seed} -q\n",
    "    \n",
    "with Pool(10) as pool:\n",
    "    for _ in tqdm(pool.imap(colaml_ezbatch, map(itemgetter(1), jobs.iterrows()))):\n",
    "        pass"
   ]
  },
  {
   "cell_type": "markdown",
   "id": "c79c61a1-7216-4262-9d9c-cb9d72c944fc",
   "metadata": {},
   "source": [
    "## Find best run"
   ]
  },
  {
   "cell_type": "code",
   "execution_count": 7,
   "id": "6e365edb-87f7-43fd-9ec0-fa6e86b92e13",
   "metadata": {
    "tags": []
   },
   "outputs": [
    {
     "data": {
      "text/html": [
       "<div>\n",
       "<style scoped>\n",
       "    .dataframe tbody tr th:only-of-type {\n",
       "        vertical-align: middle;\n",
       "    }\n",
       "\n",
       "    .dataframe tbody tr th {\n",
       "        vertical-align: top;\n",
       "    }\n",
       "\n",
       "    .dataframe thead th {\n",
       "        text-align: right;\n",
       "    }\n",
       "</style>\n",
       "<table border=\"1\" class=\"dataframe\">\n",
       "  <thead>\n",
       "    <tr style=\"text-align: right;\">\n",
       "      <th></th>\n",
       "      <th>repid</th>\n",
       "      <th>input_file</th>\n",
       "      <th>output_file</th>\n",
       "      <th>loglik</th>\n",
       "    </tr>\n",
       "  </thead>\n",
       "  <tbody>\n",
       "    <tr>\n",
       "      <th>3</th>\n",
       "      <td>4</td>\n",
       "      <td>/home/jovyan/data/inspect-real-data/fish/fish-...</td>\n",
       "      <td>/home/jovyan/data/inspect-real-data/fish/fish-...</td>\n",
       "      <td>-928122.961375</td>\n",
       "    </tr>\n",
       "    <tr>\n",
       "      <th>4</th>\n",
       "      <td>5</td>\n",
       "      <td>/home/jovyan/data/inspect-real-data/fish/fish-...</td>\n",
       "      <td>/home/jovyan/data/inspect-real-data/fish/fish-...</td>\n",
       "      <td>-928122.961378</td>\n",
       "    </tr>\n",
       "    <tr>\n",
       "      <th>1</th>\n",
       "      <td>2</td>\n",
       "      <td>/home/jovyan/data/inspect-real-data/fish/fish-...</td>\n",
       "      <td>/home/jovyan/data/inspect-real-data/fish/fish-...</td>\n",
       "      <td>-928122.961385</td>\n",
       "    </tr>\n",
       "    <tr>\n",
       "      <th>9</th>\n",
       "      <td>10</td>\n",
       "      <td>/home/jovyan/data/inspect-real-data/fish/fish-...</td>\n",
       "      <td>/home/jovyan/data/inspect-real-data/fish/fish-...</td>\n",
       "      <td>-928122.961386</td>\n",
       "    </tr>\n",
       "    <tr>\n",
       "      <th>7</th>\n",
       "      <td>8</td>\n",
       "      <td>/home/jovyan/data/inspect-real-data/fish/fish-...</td>\n",
       "      <td>/home/jovyan/data/inspect-real-data/fish/fish-...</td>\n",
       "      <td>-928122.961390</td>\n",
       "    </tr>\n",
       "    <tr>\n",
       "      <th>2</th>\n",
       "      <td>3</td>\n",
       "      <td>/home/jovyan/data/inspect-real-data/fish/fish-...</td>\n",
       "      <td>/home/jovyan/data/inspect-real-data/fish/fish-...</td>\n",
       "      <td>-929859.959599</td>\n",
       "    </tr>\n",
       "    <tr>\n",
       "      <th>5</th>\n",
       "      <td>6</td>\n",
       "      <td>/home/jovyan/data/inspect-real-data/fish/fish-...</td>\n",
       "      <td>/home/jovyan/data/inspect-real-data/fish/fish-...</td>\n",
       "      <td>-932786.522584</td>\n",
       "    </tr>\n",
       "    <tr>\n",
       "      <th>0</th>\n",
       "      <td>1</td>\n",
       "      <td>/home/jovyan/data/inspect-real-data/fish/fish-...</td>\n",
       "      <td>/home/jovyan/data/inspect-real-data/fish/fish-...</td>\n",
       "      <td>-932786.522584</td>\n",
       "    </tr>\n",
       "    <tr>\n",
       "      <th>6</th>\n",
       "      <td>7</td>\n",
       "      <td>/home/jovyan/data/inspect-real-data/fish/fish-...</td>\n",
       "      <td>/home/jovyan/data/inspect-real-data/fish/fish-...</td>\n",
       "      <td>-932786.522584</td>\n",
       "    </tr>\n",
       "    <tr>\n",
       "      <th>8</th>\n",
       "      <td>9</td>\n",
       "      <td>/home/jovyan/data/inspect-real-data/fish/fish-...</td>\n",
       "      <td>/home/jovyan/data/inspect-real-data/fish/fish-...</td>\n",
       "      <td>-933668.738498</td>\n",
       "    </tr>\n",
       "  </tbody>\n",
       "</table>\n",
       "</div>"
      ],
      "text/plain": [
       "   repid                                         input_file  \\\n",
       "3      4  /home/jovyan/data/inspect-real-data/fish/fish-...   \n",
       "4      5  /home/jovyan/data/inspect-real-data/fish/fish-...   \n",
       "1      2  /home/jovyan/data/inspect-real-data/fish/fish-...   \n",
       "9     10  /home/jovyan/data/inspect-real-data/fish/fish-...   \n",
       "7      8  /home/jovyan/data/inspect-real-data/fish/fish-...   \n",
       "2      3  /home/jovyan/data/inspect-real-data/fish/fish-...   \n",
       "5      6  /home/jovyan/data/inspect-real-data/fish/fish-...   \n",
       "0      1  /home/jovyan/data/inspect-real-data/fish/fish-...   \n",
       "6      7  /home/jovyan/data/inspect-real-data/fish/fish-...   \n",
       "8      9  /home/jovyan/data/inspect-real-data/fish/fish-...   \n",
       "\n",
       "                                         output_file         loglik  \n",
       "3  /home/jovyan/data/inspect-real-data/fish/fish-... -928122.961375  \n",
       "4  /home/jovyan/data/inspect-real-data/fish/fish-... -928122.961378  \n",
       "1  /home/jovyan/data/inspect-real-data/fish/fish-... -928122.961385  \n",
       "9  /home/jovyan/data/inspect-real-data/fish/fish-... -928122.961386  \n",
       "7  /home/jovyan/data/inspect-real-data/fish/fish-... -928122.961390  \n",
       "2  /home/jovyan/data/inspect-real-data/fish/fish-... -929859.959599  \n",
       "5  /home/jovyan/data/inspect-real-data/fish/fish-... -932786.522584  \n",
       "0  /home/jovyan/data/inspect-real-data/fish/fish-... -932786.522584  \n",
       "6  /home/jovyan/data/inspect-real-data/fish/fish-... -932786.522584  \n",
       "8  /home/jovyan/data/inspect-real-data/fish/fish-... -933668.738498  "
      ]
     },
     "execution_count": 7,
     "metadata": {},
     "output_type": "execute_result"
    }
   ],
   "source": [
    "result = jobs.assign(\n",
    "    loglik = lambda df:\n",
    "        df['output_file']\n",
    "            .apply(model_from_json)                          # path -> mmm\n",
    "            .apply(methodcaller('sufficient_stats', phytbl)) # mmm + phytable -> stats\n",
    "            .apply(attrgetter('col_loglik'))                 # stats.col_loglik\n",
    "            .apply(sum)\n",
    ").sort_values(by='loglik', ascending=False)\n",
    "\n",
    "result"
   ]
  },
  {
   "cell_type": "code",
   "execution_count": 8,
   "id": "34575199-3ac3-43dc-9ce8-d579212dab58",
   "metadata": {
    "tags": []
   },
   "outputs": [
    {
     "data": {
      "text/plain": [
       "PosixPath('/home/jovyan/results/fish-lmax2-filt05.bestfit.json.gz')"
      ]
     },
     "execution_count": 8,
     "metadata": {},
     "output_type": "execute_result"
    }
   ],
   "source": [
    "shutil.copyfile(\n",
    "    result.iloc[0]['output_file'], \n",
    "    ROOT_DIR/'results'/'fish-lmax2-filt05.bestfit.json.gz'\n",
    ")"
   ]
  },
  {
   "cell_type": "code",
   "execution_count": null,
   "id": "cc569749-f74f-4d50-b9ba-a4748ce6d5e9",
   "metadata": {},
   "outputs": [],
   "source": []
  }
 ],
 "metadata": {
  "kernelspec": {
   "display_name": "Python 3 (ipykernel)",
   "language": "python",
   "name": "python3"
  },
  "language_info": {
   "codemirror_mode": {
    "name": "ipython",
    "version": 3
   },
   "file_extension": ".py",
   "mimetype": "text/x-python",
   "name": "python",
   "nbconvert_exporter": "python",
   "pygments_lexer": "ipython3",
   "version": "3.10.9"
  }
 },
 "nbformat": 4,
 "nbformat_minor": 5
}
