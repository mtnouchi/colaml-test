{
 "cells": [
  {
   "cell_type": "markdown",
   "id": "a251eb68-409f-4a44-a8f1-953bced6ed2a",
   "metadata": {},
   "source": [
    "# Inspecting the empirical datasets (1/n): Fitting -- the Bacteria dataset\n",
    "\n",
    "1. Prefilter: Drop genes present in <=5% species)\n",
    "2. EM run x 10: lmax=2, ncat=3; default CLI (same procedure as [a cross validation test](../fit-to-real-data/240701-1-fitting-main-bacteria.ipynb))\n",
    "3. Find the best run"
   ]
  },
  {
   "cell_type": "code",
   "execution_count": 1,
   "id": "06b7122f-2498-43e9-8e14-5e593e82f53e",
   "metadata": {
    "tags": []
   },
   "outputs": [],
   "source": [
    "import gzip\n",
    "import json\n",
    "import shutil\n",
    "from multiprocessing import Pool\n",
    "from operator import attrgetter, itemgetter, methodcaller\n",
    "from pathlib import Path\n",
    "\n",
    "import numpy as np\n",
    "import pandas as pd\n",
    "import matplotlib.pyplot as plt\n",
    "from tqdm.auto import tqdm\n",
    "\n",
    "from colaml import *\n",
    "from colaml.misc import parsimony\n",
    "from colaml.__main__ import phytbl_from_json, model_from_json\n",
    "from myconfig import DATASET_DIR, DATA_DIR, ROOT_DIR\n",
    "from mydata import filter_table"
   ]
  },
  {
   "cell_type": "code",
   "execution_count": 2,
   "id": "0bcece60-a23e-400a-b493-035f2d258769",
   "metadata": {
    "tags": []
   },
   "outputs": [
    {
     "data": {
      "text/plain": [
       "<threadpoolctl.threadpool_limits at 0x7fc6d83366b0>"
      ]
     },
     "execution_count": 2,
     "metadata": {},
     "output_type": "execute_result"
    }
   ],
   "source": [
    "from threadpoolctl import threadpool_limits\n",
    "threadpool_limits(1, user_api='blas')"
   ]
  },
  {
   "cell_type": "code",
   "execution_count": 3,
   "id": "102c6840-ea10-4ead-b2a8-4730988e8338",
   "metadata": {},
   "outputs": [],
   "source": [
    "lmax, ncat = 2, 3\n",
    "WORK_DIR = DATA_DIR/'inspect-real-data'/'bacteria'"
   ]
  },
  {
   "cell_type": "markdown",
   "id": "a1395584-e6e3-41e3-bd5d-9a69d3300d3f",
   "metadata": {},
   "source": [
    "## Data preproc"
   ]
  },
  {
   "cell_type": "code",
   "execution_count": 4,
   "id": "907d669e-6f81-4a5c-a9fd-303e2502c9e2",
   "metadata": {
    "tags": []
   },
   "outputs": [],
   "source": [
    "dataset_path = DATASET_DIR/'02-bacteria'/'bacteria-main-v0.json.gz'\n",
    "phytbl, columns = filter_table(\n",
    "    *phytbl_from_json(dataset_path, lmax), max_missing=0.05, adjust_branch=True\n",
    ")"
   ]
  },
  {
   "cell_type": "code",
   "execution_count": 5,
   "id": "cfe5a2fd-21c3-40ce-9ab7-fe9a9ad44078",
   "metadata": {
    "tags": []
   },
   "outputs": [],
   "source": [
    "with gzip.open(WORK_DIR/f'bacteria-lmax{lmax}-filt05.json.gz', 'wt') as file:\n",
    "    json.dump({\n",
    "        'tree': phytbl.tree.to_ete3().write(format=3, format_root_node=True), \n",
    "        'OGs' : pd.DataFrame.from_dict(\n",
    "            phytbl.to_dict(), orient='index', columns=columns\n",
    "        ).to_dict(orient='split')\n",
    "    }, file, indent=2)"
   ]
  },
  {
   "cell_type": "markdown",
   "id": "beeae541-f303-47c6-962d-4c4dcdc29d11",
   "metadata": {},
   "source": [
    "## Run EM 10 times"
   ]
  },
  {
   "cell_type": "code",
   "execution_count": 6,
   "id": "15477760-425c-44e5-ba98-f5ef95a5b97e",
   "metadata": {
    "tags": []
   },
   "outputs": [
    {
     "data": {
      "application/vnd.jupyter.widget-view+json": {
       "model_id": "32cb0ffc50c44b888f7427aac0b508f1",
       "version_major": 2,
       "version_minor": 0
      },
      "text/plain": [
       "0it [00:00, ?it/s]"
      ]
     },
     "metadata": {},
     "output_type": "display_data"
    },
    {
     "name": "stdout",
     "output_type": "stream",
     "text": [
      "+ colaml fit mmm -i /home/jovyan/data/inspect-real-data/bacteria/bacteria-lmax2-filt05.json.gz -o /home/jovyan/data/inspect-real-data/bacteria/bacteria-lmax2-filt05.fit02.json.gz --lmax 2 --ncat 3 --seed 14556 -q\n",
      "+ colaml fit mmm -i /home/jovyan/data/inspect-real-data/bacteria/bacteria-lmax2-filt05.json.gz -o /home/jovyan/data/inspect-real-data/bacteria/bacteria-lmax2-filt05.fit01.json.gz --lmax 2 --ncat 3 --seed 41811 -q\n",
      "+ colaml fit mmm -i /home/jovyan/data/inspect-real-data/bacteria/bacteria-lmax2-filt05.json.gz -o /home/jovyan/data/inspect-real-data/bacteria/bacteria-lmax2-filt05.fit07.json.gz --lmax 2 --ncat 3 --seed 31513 -q\n",
      "+ colaml fit mmm -i /home/jovyan/data/inspect-real-data/bacteria/bacteria-lmax2-filt05.json.gz -o /home/jovyan/data/inspect-real-data/bacteria/bacteria-lmax2-filt05.fit10.json.gz --lmax 2 --ncat 3 --seed 55403 -q\n",
      "+ colaml fit mmm -i /home/jovyan/data/inspect-real-data/bacteria/bacteria-lmax2-filt05.json.gz -o /home/jovyan/data/inspect-real-data/bacteria/bacteria-lmax2-filt05.fit03.json.gz --lmax 2 --ncat 3 --seed 50712 -q\n",
      "+ colaml fit mmm -i /home/jovyan/data/inspect-real-data/bacteria/bacteria-lmax2-filt05.json.gz -o /home/jovyan/data/inspect-real-data/bacteria/bacteria-lmax2-filt05.fit06.json.gz --lmax 2 --ncat 3 --seed 44447 -q\n",
      "+ colaml fit mmm -i /home/jovyan/data/inspect-real-data/bacteria/bacteria-lmax2-filt05.json.gz -o /home/jovyan/data/inspect-real-data/bacteria/bacteria-lmax2-filt05.fit09.json.gz --lmax 2 --ncat 3 --seed 52614 -q\n",
      "+ colaml fit mmm -i /home/jovyan/data/inspect-real-data/bacteria/bacteria-lmax2-filt05.json.gz -o /home/jovyan/data/inspect-real-data/bacteria/bacteria-lmax2-filt05.fit05.json.gz --lmax 2 --ncat 3 --seed 17105 -q\n",
      "+ colaml fit mmm -i /home/jovyan/data/inspect-real-data/bacteria/bacteria-lmax2-filt05.json.gz -o /home/jovyan/data/inspect-real-data/bacteria/bacteria-lmax2-filt05.fit08.json.gz --lmax 2 --ncat 3 --seed 26802 -q\n",
      "+ colaml fit mmm -i /home/jovyan/data/inspect-real-data/bacteria/bacteria-lmax2-filt05.json.gz -o /home/jovyan/data/inspect-real-data/bacteria/bacteria-lmax2-filt05.fit04.json.gz --lmax 2 --ncat 3 --seed 26206 -q\n",
      "\u001b[0m\u001b[0m\u001b[0m\u001b[0m\u001b[0m\u001b[0m\u001b[0m\u001b[0m\u001b[0m\u001b[0m"
     ]
    }
   ],
   "source": [
    "root_seed = 42\n",
    "jobs = pd.DataFrame([\n",
    "    (i, WORK_DIR/'bacteria-lmax2-filt05.json.gz', WORK_DIR/f'bacteria-lmax2-filt05.fit{i:02d}.json.gz')\n",
    "    for i in range(1, 11)\n",
    "], columns=['repid', 'input_file', 'output_file'])\n",
    "\n",
    "def colaml_ezbatch(job):\n",
    "    seed = np.random.default_rng([root_seed, job.repid]).integers(2**16)\n",
    "    !set -x && colaml fit mmm -i {job.input_file} -o {job.output_file} \\\n",
    "                              --lmax {lmax} --ncat {ncat} --seed {seed} -q\n",
    "    \n",
    "with Pool(10) as pool:\n",
    "    for _ in tqdm(pool.imap(colaml_ezbatch, map(itemgetter(1), jobs.iterrows()))):\n",
    "        pass"
   ]
  },
  {
   "cell_type": "markdown",
   "id": "1b3814bd-0aae-4a2a-9297-0ff104e10251",
   "metadata": {},
   "source": [
    "## Find best run"
   ]
  },
  {
   "cell_type": "code",
   "execution_count": 7,
   "id": "1e2ab16d-845f-46cb-b354-417178ecc3ad",
   "metadata": {
    "tags": []
   },
   "outputs": [
    {
     "data": {
      "text/html": [
       "<div>\n",
       "<style scoped>\n",
       "    .dataframe tbody tr th:only-of-type {\n",
       "        vertical-align: middle;\n",
       "    }\n",
       "\n",
       "    .dataframe tbody tr th {\n",
       "        vertical-align: top;\n",
       "    }\n",
       "\n",
       "    .dataframe thead th {\n",
       "        text-align: right;\n",
       "    }\n",
       "</style>\n",
       "<table border=\"1\" class=\"dataframe\">\n",
       "  <thead>\n",
       "    <tr style=\"text-align: right;\">\n",
       "      <th></th>\n",
       "      <th>repid</th>\n",
       "      <th>input_file</th>\n",
       "      <th>output_file</th>\n",
       "      <th>loglik</th>\n",
       "    </tr>\n",
       "  </thead>\n",
       "  <tbody>\n",
       "    <tr>\n",
       "      <th>0</th>\n",
       "      <td>1</td>\n",
       "      <td>/home/jovyan/data/inspect-real-data/bacteria/b...</td>\n",
       "      <td>/home/jovyan/data/inspect-real-data/bacteria/b...</td>\n",
       "      <td>-434621.488735</td>\n",
       "    </tr>\n",
       "    <tr>\n",
       "      <th>2</th>\n",
       "      <td>3</td>\n",
       "      <td>/home/jovyan/data/inspect-real-data/bacteria/b...</td>\n",
       "      <td>/home/jovyan/data/inspect-real-data/bacteria/b...</td>\n",
       "      <td>-434621.488738</td>\n",
       "    </tr>\n",
       "    <tr>\n",
       "      <th>5</th>\n",
       "      <td>6</td>\n",
       "      <td>/home/jovyan/data/inspect-real-data/bacteria/b...</td>\n",
       "      <td>/home/jovyan/data/inspect-real-data/bacteria/b...</td>\n",
       "      <td>-434621.488741</td>\n",
       "    </tr>\n",
       "    <tr>\n",
       "      <th>7</th>\n",
       "      <td>8</td>\n",
       "      <td>/home/jovyan/data/inspect-real-data/bacteria/b...</td>\n",
       "      <td>/home/jovyan/data/inspect-real-data/bacteria/b...</td>\n",
       "      <td>-434621.488766</td>\n",
       "    </tr>\n",
       "    <tr>\n",
       "      <th>4</th>\n",
       "      <td>5</td>\n",
       "      <td>/home/jovyan/data/inspect-real-data/bacteria/b...</td>\n",
       "      <td>/home/jovyan/data/inspect-real-data/bacteria/b...</td>\n",
       "      <td>-434621.488830</td>\n",
       "    </tr>\n",
       "    <tr>\n",
       "      <th>9</th>\n",
       "      <td>10</td>\n",
       "      <td>/home/jovyan/data/inspect-real-data/bacteria/b...</td>\n",
       "      <td>/home/jovyan/data/inspect-real-data/bacteria/b...</td>\n",
       "      <td>-434621.488893</td>\n",
       "    </tr>\n",
       "    <tr>\n",
       "      <th>1</th>\n",
       "      <td>2</td>\n",
       "      <td>/home/jovyan/data/inspect-real-data/bacteria/b...</td>\n",
       "      <td>/home/jovyan/data/inspect-real-data/bacteria/b...</td>\n",
       "      <td>-434621.488909</td>\n",
       "    </tr>\n",
       "    <tr>\n",
       "      <th>3</th>\n",
       "      <td>4</td>\n",
       "      <td>/home/jovyan/data/inspect-real-data/bacteria/b...</td>\n",
       "      <td>/home/jovyan/data/inspect-real-data/bacteria/b...</td>\n",
       "      <td>-434621.488946</td>\n",
       "    </tr>\n",
       "    <tr>\n",
       "      <th>6</th>\n",
       "      <td>7</td>\n",
       "      <td>/home/jovyan/data/inspect-real-data/bacteria/b...</td>\n",
       "      <td>/home/jovyan/data/inspect-real-data/bacteria/b...</td>\n",
       "      <td>-434621.488957</td>\n",
       "    </tr>\n",
       "    <tr>\n",
       "      <th>8</th>\n",
       "      <td>9</td>\n",
       "      <td>/home/jovyan/data/inspect-real-data/bacteria/b...</td>\n",
       "      <td>/home/jovyan/data/inspect-real-data/bacteria/b...</td>\n",
       "      <td>-434621.488962</td>\n",
       "    </tr>\n",
       "  </tbody>\n",
       "</table>\n",
       "</div>"
      ],
      "text/plain": [
       "   repid                                         input_file  \\\n",
       "0      1  /home/jovyan/data/inspect-real-data/bacteria/b...   \n",
       "2      3  /home/jovyan/data/inspect-real-data/bacteria/b...   \n",
       "5      6  /home/jovyan/data/inspect-real-data/bacteria/b...   \n",
       "7      8  /home/jovyan/data/inspect-real-data/bacteria/b...   \n",
       "4      5  /home/jovyan/data/inspect-real-data/bacteria/b...   \n",
       "9     10  /home/jovyan/data/inspect-real-data/bacteria/b...   \n",
       "1      2  /home/jovyan/data/inspect-real-data/bacteria/b...   \n",
       "3      4  /home/jovyan/data/inspect-real-data/bacteria/b...   \n",
       "6      7  /home/jovyan/data/inspect-real-data/bacteria/b...   \n",
       "8      9  /home/jovyan/data/inspect-real-data/bacteria/b...   \n",
       "\n",
       "                                         output_file         loglik  \n",
       "0  /home/jovyan/data/inspect-real-data/bacteria/b... -434621.488735  \n",
       "2  /home/jovyan/data/inspect-real-data/bacteria/b... -434621.488738  \n",
       "5  /home/jovyan/data/inspect-real-data/bacteria/b... -434621.488741  \n",
       "7  /home/jovyan/data/inspect-real-data/bacteria/b... -434621.488766  \n",
       "4  /home/jovyan/data/inspect-real-data/bacteria/b... -434621.488830  \n",
       "9  /home/jovyan/data/inspect-real-data/bacteria/b... -434621.488893  \n",
       "1  /home/jovyan/data/inspect-real-data/bacteria/b... -434621.488909  \n",
       "3  /home/jovyan/data/inspect-real-data/bacteria/b... -434621.488946  \n",
       "6  /home/jovyan/data/inspect-real-data/bacteria/b... -434621.488957  \n",
       "8  /home/jovyan/data/inspect-real-data/bacteria/b... -434621.488962  "
      ]
     },
     "execution_count": 7,
     "metadata": {},
     "output_type": "execute_result"
    }
   ],
   "source": [
    "result = jobs.assign(\n",
    "    loglik = lambda df:\n",
    "        df['output_file']\n",
    "            .apply(model_from_json)                          # path -> mmm\n",
    "            .apply(methodcaller('sufficient_stats', phytbl)) # mmm + phytable -> stats\n",
    "            .apply(attrgetter('col_loglik'))                 # stats.col_loglik\n",
    "            .apply(sum)\n",
    ").sort_values(by='loglik', ascending=False)\n",
    "\n",
    "result"
   ]
  },
  {
   "cell_type": "code",
   "execution_count": 8,
   "id": "5d28d57f-25c4-4e24-a959-f2351a62ba10",
   "metadata": {
    "tags": []
   },
   "outputs": [
    {
     "data": {
      "text/plain": [
       "PosixPath('/home/jovyan/results/bacteria-lmax2-filt05.bestfit.json.gz')"
      ]
     },
     "execution_count": 8,
     "metadata": {},
     "output_type": "execute_result"
    }
   ],
   "source": [
    "shutil.copyfile(\n",
    "    result.iloc[0]['output_file'], \n",
    "    ROOT_DIR/'results'/'bacteria-lmax2-filt05.bestfit.json.gz'\n",
    ")"
   ]
  },
  {
   "cell_type": "code",
   "execution_count": null,
   "id": "dc74b8f9-7bda-483b-90ae-b6f027cf5b09",
   "metadata": {},
   "outputs": [],
   "source": []
  }
 ],
 "metadata": {
  "kernelspec": {
   "display_name": "Python 3 (ipykernel)",
   "language": "python",
   "name": "python3"
  },
  "language_info": {
   "codemirror_mode": {
    "name": "ipython",
    "version": 3
   },
   "file_extension": ".py",
   "mimetype": "text/x-python",
   "name": "python",
   "nbconvert_exporter": "python",
   "pygments_lexer": "ipython3",
   "version": "3.10.9"
  }
 },
 "nbformat": 4,
 "nbformat_minor": 5
}
