{
 "cells": [
  {
   "cell_type": "markdown",
   "id": "7ad212b7-ebf5-4053-b167-33dc290a0afa",
   "metadata": {},
   "source": [
    "# Effect of acceleration on EM algorithm (1/n)\n",
    "\n",
    "plain EM vs. parabolic EM (original) vs. parabolic EM (modified)\n",
    "\n",
    "Collect the trajectories of the EM algorithms when starting from the same initial values.  \n",
    "See [here](../inspect-real-data/240718-1-fitting-bacteria.ipynb) for the initial values. They have been chosen as the best results of multiple short EMs (i.e., the emEM initialization)."
   ]
  },
  {
   "cell_type": "code",
   "execution_count": 1,
   "id": "0e69259e-6ee9-41b3-b7be-dcb8b5801c09",
   "metadata": {
    "tags": []
   },
   "outputs": [],
   "source": [
    "import json\n",
    "import gzip\n",
    "from collections import namedtuple\n",
    "from multiprocessing import Pool\n",
    "\n",
    "from tqdm.auto import tqdm\n",
    "\n",
    "from colaml.__main__ import model_from_json, phytbl_from_json, CoLaMLEncoder\n",
    "from myconfig import DATA_DIR\n",
    "REF_RUN_DIR = DATA_DIR/'inspect-real-data'/'bacteria'"
   ]
  },
  {
   "cell_type": "code",
   "execution_count": 2,
   "id": "7c95040c-97a1-4019-a2f4-cf3769ee5e5c",
   "metadata": {
    "tags": []
   },
   "outputs": [
    {
     "data": {
      "text/plain": [
       "<threadpoolctl.threadpool_limits at 0x7fd9bec79690>"
      ]
     },
     "execution_count": 2,
     "metadata": {},
     "output_type": "execute_result"
    }
   ],
   "source": [
    "from threadpoolctl import threadpool_limits\n",
    "threadpool_limits(1, user_api='blas')"
   ]
  },
  {
   "cell_type": "code",
   "execution_count": 3,
   "id": "d6697557-45b6-4bc3-a329-8b619a3a8359",
   "metadata": {},
   "outputs": [],
   "source": [
    "phytbl, columns = phytbl_from_json(REF_RUN_DIR/'bacteria-lmax2-filt05.json.gz', 2)"
   ]
  },
  {
   "cell_type": "code",
   "execution_count": 4,
   "id": "25ea721a-4c49-455c-be15-efd36cd264b9",
   "metadata": {},
   "outputs": [],
   "source": [
    "# plain EM vs. parabolic EM (original) vs. parabolic EM (modified)\n",
    "configs = dict(\n",
    "    plainEM         = dict(method='EM'),  \n",
    "    parabolicEMorig = dict(method='parabolic_EM', heuristics=False), \n",
    "    parabolicEMmod  = dict(method='parabolic_EM', heuristics=True ), \n",
    ")"
   ]
  },
  {
   "cell_type": "code",
   "execution_count": 5,
   "id": "6f5d3590-668b-4ead-a737-d1a63df0dd31",
   "metadata": {
    "tags": []
   },
   "outputs": [],
   "source": [
    "Job = namedtuple('Job', ['ref_fitting', 'method_key'])\n",
    "jobs = [\n",
    "    Job(ref_fitting, method)\n",
    "    for ref_fitting in sorted(REF_RUN_DIR.glob('bacteria-lmax2-filt05.fit*.json.gz'))\n",
    "    for method in configs.keys()\n",
    "]"
   ]
  },
  {
   "cell_type": "code",
   "execution_count": 6,
   "id": "fb629b50-b374-428c-bbce-42249ef3d713",
   "metadata": {
    "tags": []
   },
   "outputs": [],
   "source": [
    "class NaiveLogger:\n",
    "    def __init__(self):\n",
    "        self.storage = []\n",
    "    def info(self, fmt, msg):\n",
    "        self.storage.append(msg)"
   ]
  },
  {
   "cell_type": "code",
   "execution_count": 7,
   "id": "3087204d-de4a-4224-86c8-1c4fb3984c34",
   "metadata": {
    "tags": []
   },
   "outputs": [
    {
     "data": {
      "application/vnd.jupyter.widget-view+json": {
       "model_id": "9781864f3bcf4ad3b089542401ca928a",
       "version_major": 2,
       "version_minor": 0
      },
      "text/plain": [
       "0it [00:00, ?it/s]"
      ]
     },
     "metadata": {},
     "output_type": "display_data"
    }
   ],
   "source": [
    "def collect_EM_traj(job):\n",
    "    logger = NaiveLogger()\n",
    "    with gzip.open(job.ref_fitting, 'rt') as file:\n",
    "        init = json.load(file)['result']['init']\n",
    "    mmm = model_from_json(job.ref_fitting)\n",
    "    mmm.update(**init)    \n",
    "    mmm.fit(\n",
    "        phytbl, logger=logger, **configs[job.method_key], \n",
    "        max_rounds=5000, stop_criteria=(1e-6, 1e-6), show_progress=False\n",
    "    )\n",
    "    log_path = DATA_DIR/'misc-EM-acceleration'/job.method_key/f'{job.method_key}-{job.ref_fitting.name}'\n",
    "    with gzip.open(log_path, 'wt') as file:\n",
    "        json.dump(logger.storage, file, cls=CoLaMLEncoder, indent=2)\n",
    "\n",
    "with Pool(10) as pool:\n",
    "    for _ in tqdm(pool.imap_unordered(collect_EM_traj, jobs)):\n",
    "        pass"
   ]
  },
  {
   "cell_type": "code",
   "execution_count": null,
   "id": "dfe8697d-320d-4848-bfa7-9bc89522b03d",
   "metadata": {},
   "outputs": [],
   "source": []
  }
 ],
 "metadata": {
  "kernelspec": {
   "display_name": "Python 3 (ipykernel)",
   "language": "python",
   "name": "python3"
  },
  "language_info": {
   "codemirror_mode": {
    "name": "ipython",
    "version": 3
   },
   "file_extension": ".py",
   "mimetype": "text/x-python",
   "name": "python",
   "nbconvert_exporter": "python",
   "pygments_lexer": "ipython3",
   "version": "3.10.9"
  }
 },
 "nbformat": 4,
 "nbformat_minor": 5
}
