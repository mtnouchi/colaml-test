{
 "cells": [
  {
   "cell_type": "markdown",
   "id": "c7bd54d6-a8ed-4908-821d-a6c58712ad0a",
   "metadata": {},
   "source": [
    "# Post-processing (1/n)\n",
    "\n",
    "- Log-likelihood\n",
    "- Parameter estimation accuracy (see also snippets.py)\n",
    "    - rates: Mean Absolute Percentage Error (MAPE)\n",
    "    - root probs: Earth Mover's Distance (EMD)\n",
    "        - copy: $d(i, j) = |i - j|$\n",
    "        - category: $d(x, y) = 1 - \\delta_{x,y}$ (i.e., a discrete metric space)\n",
    "- Reconstruction\n",
    "\n",
    "Category identification was performed by finding the optimal assignment that minimizes the total MAPE of gain loss rates $r$.\n"
   ]
  },
  {
   "cell_type": "code",
   "execution_count": 1,
   "id": "c1b524c6-4bf6-4268-8a21-c9f71aa72817",
   "metadata": {
    "tags": []
   },
   "outputs": [],
   "source": [
    "import gzip, json\n",
    "from multiprocessing import Pool\n",
    "from operator import itemgetter\n",
    "\n",
    "import numpy as np\n",
    "import pandas as pd\n",
    "import matplotlib.pyplot as plt\n",
    "import seaborn as sns\n",
    "from tqdm.auto import tqdm\n",
    "\n",
    "from colaml.__main__ import model_from_json, phytbl_from_json\n",
    "from myconfig import ROOT_DIR, DATA_DIR, DATASET_DIR\n",
    "from snippets import assign_mmm_category, mmm_param_dist"
   ]
  },
  {
   "cell_type": "code",
   "execution_count": 2,
   "id": "f2024d31-9926-4782-a2d3-e5182b1eb971",
   "metadata": {
    "tags": []
   },
   "outputs": [
    {
     "data": {
      "text/plain": [
       "<threadpoolctl.threadpool_limits at 0x7fa8cbaec0a0>"
      ]
     },
     "execution_count": 2,
     "metadata": {},
     "output_type": "execute_result"
    }
   ],
   "source": [
    "from threadpoolctl import threadpool_limits\n",
    "threadpool_limits(1)"
   ]
  },
  {
   "cell_type": "code",
   "execution_count": 3,
   "id": "973666ab-dac2-4ca3-bf5c-22a18ed6cb73",
   "metadata": {
    "tags": []
   },
   "outputs": [
    {
     "data": {
      "text/plain": [
       "'0.1.dev14+g6c01617'"
      ]
     },
     "execution_count": 3,
     "metadata": {},
     "output_type": "execute_result"
    }
   ],
   "source": [
    "import colaml\n",
    "colaml.__version__"
   ]
  },
  {
   "cell_type": "code",
   "execution_count": 4,
   "id": "8bbdc8f0-f8b3-4ec8-bc5b-15c973c71b4e",
   "metadata": {
    "tags": []
   },
   "outputs": [],
   "source": [
    "jobs = pd.read_csv('240628-batch-job-array.txt', sep='\\t')\n",
    "conditions = pd.read_csv(DATASET_DIR/'01-simulation01'/'conditions.tsv', sep='\\t')"
   ]
  },
  {
   "cell_type": "markdown",
   "id": "47dddd8e-49f2-4ed9-900a-34b73cd64f38",
   "metadata": {},
   "source": [
    "## Log-likelihood"
   ]
  },
  {
   "cell_type": "code",
   "execution_count": 5,
   "id": "24bc1021-e0c7-4a21-aeff-f4187440b35c",
   "metadata": {
    "tags": []
   },
   "outputs": [],
   "source": [
    "def batch_loglik(job):\n",
    "    try:\n",
    "        phytbl, _ = phytbl_from_json(ROOT_DIR/job.infile, job.lmax)\n",
    "        mmm = model_from_json(ROOT_DIR/job.outfile)\n",
    "        stats = mmm.sufficient_stats(phytbl)\n",
    "        loglik = stats.col_loglik.sum()\n",
    "    \n",
    "    except Exception:\n",
    "        loglik = np.nan\n",
    "        \n",
    "    jobinfo = job.loc[['conditionID', 'data_rep', 'fit_rep']].to_dict()\n",
    "    \n",
    "    return jobinfo | dict(loglik = loglik)"
   ]
  },
  {
   "cell_type": "code",
   "execution_count": 6,
   "id": "ac3d31f4-c68e-415a-bca8-8514d54b9f3b",
   "metadata": {
    "tags": []
   },
   "outputs": [
    {
     "data": {
      "application/vnd.jupyter.widget-view+json": {
       "model_id": "6f07ad499dee49b692f1c29e136e3784",
       "version_major": 2,
       "version_minor": 0
      },
      "text/plain": [
       "0it [00:00, ?it/s]"
      ]
     },
     "metadata": {},
     "output_type": "display_data"
    }
   ],
   "source": [
    "with Pool(16) as pool:\n",
    "    loglik = pd.DataFrame(tqdm(pool.imap(\n",
    "        batch_loglik, \n",
    "        map(itemgetter(1), jobs.iterrows())\n",
    "    )))"
   ]
  },
  {
   "cell_type": "code",
   "execution_count": 7,
   "id": "e81a5600-5189-4029-8e81-e6d26e7de5a4",
   "metadata": {
    "tags": []
   },
   "outputs": [],
   "source": [
    "loglik.to_pickle(DATA_DIR/'post-batch'/'01-simulation01'/'loglik.pkl.bz2')"
   ]
  },
  {
   "cell_type": "markdown",
   "id": "497a1b0b-74a2-4ee5-bc06-47df2d1dbde7",
   "metadata": {
    "tags": []
   },
   "source": [
    "## Parameter estimation accuracy"
   ]
  },
  {
   "cell_type": "code",
   "execution_count": 8,
   "id": "e00372a5-8099-4303-909e-20eaf7443192",
   "metadata": {},
   "outputs": [],
   "source": [
    "def load_ans_par(infile):\n",
    "    with gzip.open(infile, 'rt') as file:\n",
    "        truth = json.load(file)\n",
    "    return {k: np.asarray(v) for k, v in truth['params'].items()}\n",
    "\n",
    "def load_est_par(outfile):\n",
    "    mmm = model_from_json(outfile)\n",
    "    return mmm._decompress_flat_params(mmm.flat_params)"
   ]
  },
  {
   "cell_type": "code",
   "execution_count": 9,
   "id": "0b15c9b0-32b5-42db-a736-5d56d511ad7d",
   "metadata": {
    "tags": []
   },
   "outputs": [],
   "source": [
    "def batch_dist(job):\n",
    "    try:\n",
    "        ans = load_ans_par(ROOT_DIR/job.infile )\n",
    "        est = load_est_par(ROOT_DIR/job.outfile)\n",
    "        dist = mmm_param_dist(ans, est)\n",
    "    \n",
    "    except Exception:\n",
    "        dist = {}\n",
    "        \n",
    "    jobinfo = job.loc[['conditionID', 'data_rep', 'fit_rep']].to_dict()\n",
    "    \n",
    "    return jobinfo | dist"
   ]
  },
  {
   "cell_type": "code",
   "execution_count": 10,
   "id": "3011ed20-e96e-40b1-91d1-b27c52a41a1d",
   "metadata": {
    "tags": []
   },
   "outputs": [
    {
     "data": {
      "application/vnd.jupyter.widget-view+json": {
       "model_id": "1db68ceb932443c28c14ebbb6deeffd9",
       "version_major": 2,
       "version_minor": 0
      },
      "text/plain": [
       "0it [00:00, ?it/s]"
      ]
     },
     "metadata": {},
     "output_type": "display_data"
    }
   ],
   "source": [
    "with Pool(16) as pool:\n",
    "    param_dist = pd.DataFrame(tqdm(pool.imap(\n",
    "        batch_dist, \n",
    "        map(itemgetter(1), jobs.iterrows())\n",
    "    )))"
   ]
  },
  {
   "cell_type": "code",
   "execution_count": 11,
   "id": "8db98dce-4b27-42de-ad0c-944a11f99e65",
   "metadata": {
    "tags": []
   },
   "outputs": [],
   "source": [
    "param_dist.to_pickle(DATA_DIR/'post-batch'/'01-simulation01'/'param-accuracy.pkl.bz2')"
   ]
  },
  {
   "cell_type": "markdown",
   "id": "8621b01c-baf5-4d54-afdc-b95a614ecee7",
   "metadata": {
    "tags": []
   },
   "source": [
    "## Reconstruction"
   ]
  },
  {
   "cell_type": "code",
   "execution_count": 12,
   "id": "8eddfcd1-d2ce-4793-8889-a3c7b5279932",
   "metadata": {
    "tags": []
   },
   "outputs": [],
   "source": [
    "def batch_recon_pcorrect(job):\n",
    "    with gzip.open(ROOT_DIR/job.infile, 'rt') as file:\n",
    "        truth = json.load(file)\n",
    "    cpy_ans = pd.DataFrame(**truth['recon']).sort_index()\n",
    "    cat_ans = pd.DataFrame(**truth['otherstates'][0]['states']).sort_index()\n",
    "\n",
    "    correct_rate = {}\n",
    "    for method in ('joint', 'marginal'):\n",
    "        correct_rate[method, 'pcorrect_cpy'] = None \n",
    "        correct_rate[method, 'pcorrect_cat'] = None \n",
    "\n",
    "    try:\n",
    "        phytbl, columns = phytbl_from_json(ROOT_DIR/job.infile, job.lmax)\n",
    "        tree = phytbl.tree.to_ete3()\n",
    "        depth = {node.name: tree.get_distance(node) for node in tree.traverse()}\n",
    "        \n",
    "        mmm = model_from_json(ROOT_DIR/job.outfile)\n",
    "        ans = load_ans_par(ROOT_DIR/job.infile )\n",
    "        est = load_est_par(ROOT_DIR/job.outfile)\n",
    "        ans_idx, est_idx = assign_mmm_category(ans, est)\n",
    "        inv = np.empty_like(est_idx)\n",
    "        inv[est_idx] = ans_idx\n",
    "    \n",
    "        for method in ('joint', 'marginal'):\n",
    "            try:\n",
    "                recon = mmm.reconstruct(phytbl, method=method)\n",
    "                cpy_recon = pd.DataFrame.from_dict(\n",
    "                    recon.to_dict(), \n",
    "                    orient='index', columns=columns\n",
    "                ).sort_index()\n",
    "                cat_recon = pd.DataFrame.from_dict(\n",
    "                    recon.otherstates['categories'].to_dict(), \n",
    "                    orient='index', columns=columns\n",
    "                ).sort_index().apply(inv.__getitem__)\n",
    "\n",
    "                correct_rate[method, 'pcorrect_cpy'] = cpy_recon.eq(cpy_ans).mean(axis=1).to_dict()\n",
    "                correct_rate[method, 'pcorrect_cat'] = cat_recon.eq(cat_ans).mean(axis=1).to_dict()\n",
    "\n",
    "            except Exception:\n",
    "                continue\n",
    "    \n",
    "    except Exception:\n",
    "        pass\n",
    "    \n",
    "    jobinfo = job.loc[['conditionID', 'data_rep', 'fit_rep']].to_dict()\n",
    "    \n",
    "    return jobinfo | dict(depth=depth) | correct_rate"
   ]
  },
  {
   "cell_type": "code",
   "execution_count": 13,
   "id": "e35466b1-52f6-482a-83c1-fc8462c9f40f",
   "metadata": {
    "tags": []
   },
   "outputs": [
    {
     "data": {
      "application/vnd.jupyter.widget-view+json": {
       "model_id": "8d8e83d61ddc476084d09907cdd1e32d",
       "version_major": 2,
       "version_minor": 0
      },
      "text/plain": [
       "0it [00:00, ?it/s]"
      ]
     },
     "metadata": {},
     "output_type": "display_data"
    },
    {
     "name": "stderr",
     "output_type": "stream",
     "text": [
      "/opt/conda/lib/python3.10/site-packages/colaml/treeModels.py:369: RuntimeWarning: divide by zero encountered in log\n",
      "  log_rootP = np.log(self.root_probs)\n",
      "/opt/conda/lib/python3.10/site-packages/colaml/treeModels.py:369: RuntimeWarning: divide by zero encountered in log\n",
      "  log_rootP = np.log(self.root_probs)\n",
      "/opt/conda/lib/python3.10/site-packages/colaml/treeModels.py:369: RuntimeWarning: divide by zero encountered in log\n",
      "  log_rootP = np.log(self.root_probs)\n",
      "/opt/conda/lib/python3.10/site-packages/colaml/treeModels.py:369: RuntimeWarning: divide by zero encountered in log\n",
      "  log_rootP = np.log(self.root_probs)\n",
      "/opt/conda/lib/python3.10/site-packages/colaml/treeModels.py:369: RuntimeWarning: divide by zero encountered in log\n",
      "  log_rootP = np.log(self.root_probs)\n",
      "/opt/conda/lib/python3.10/site-packages/colaml/treeModels.py:369: RuntimeWarning: divide by zero encountered in log\n",
      "  log_rootP = np.log(self.root_probs)\n",
      "/opt/conda/lib/python3.10/site-packages/colaml/treeModels.py:369: RuntimeWarning: divide by zero encountered in log\n",
      "  log_rootP = np.log(self.root_probs)\n",
      "/opt/conda/lib/python3.10/site-packages/colaml/treeModels.py:369: RuntimeWarning: divide by zero encountered in log\n",
      "  log_rootP = np.log(self.root_probs)\n",
      "/opt/conda/lib/python3.10/site-packages/colaml/treeModels.py:369: RuntimeWarning: divide by zero encountered in log\n",
      "  log_rootP = np.log(self.root_probs)\n",
      "/opt/conda/lib/python3.10/site-packages/colaml/treeModels.py:369: RuntimeWarning: divide by zero encountered in log\n",
      "  log_rootP = np.log(self.root_probs)\n",
      "/opt/conda/lib/python3.10/site-packages/colaml/treeModels.py:369: RuntimeWarning: divide by zero encountered in log\n",
      "  log_rootP = np.log(self.root_probs)\n",
      "/opt/conda/lib/python3.10/site-packages/colaml/treeModels.py:369: RuntimeWarning: divide by zero encountered in log\n",
      "  log_rootP = np.log(self.root_probs)\n",
      "/opt/conda/lib/python3.10/site-packages/colaml/treeModels.py:369: RuntimeWarning: divide by zero encountered in log\n",
      "  log_rootP = np.log(self.root_probs)\n",
      "/opt/conda/lib/python3.10/site-packages/colaml/treeModels.py:369: RuntimeWarning: divide by zero encountered in log\n",
      "  log_rootP = np.log(self.root_probs)\n",
      "/opt/conda/lib/python3.10/site-packages/colaml/treeModels.py:369: RuntimeWarning: divide by zero encountered in log\n",
      "  log_rootP = np.log(self.root_probs)\n",
      "/opt/conda/lib/python3.10/site-packages/colaml/treeModels.py:369: RuntimeWarning: divide by zero encountered in log\n",
      "  log_rootP = np.log(self.root_probs)\n",
      "/opt/conda/lib/python3.10/site-packages/colaml/treeModels.py:369: RuntimeWarning: divide by zero encountered in log\n",
      "  log_rootP = np.log(self.root_probs)\n",
      "/opt/conda/lib/python3.10/site-packages/colaml/treeModels.py:369: RuntimeWarning: divide by zero encountered in log\n",
      "  log_rootP = np.log(self.root_probs)\n",
      "/opt/conda/lib/python3.10/site-packages/colaml/treeModels.py:369: RuntimeWarning: divide by zero encountered in log\n",
      "  log_rootP = np.log(self.root_probs)\n",
      "/opt/conda/lib/python3.10/site-packages/colaml/treeModels.py:369: RuntimeWarning: divide by zero encountered in log\n",
      "  log_rootP = np.log(self.root_probs)\n",
      "/opt/conda/lib/python3.10/site-packages/colaml/treeModels.py:369: RuntimeWarning: divide by zero encountered in log\n",
      "  log_rootP = np.log(self.root_probs)\n",
      "/opt/conda/lib/python3.10/site-packages/colaml/treeModels.py:369: RuntimeWarning: divide by zero encountered in log\n",
      "  log_rootP = np.log(self.root_probs)\n",
      "/opt/conda/lib/python3.10/site-packages/colaml/treeModels.py:369: RuntimeWarning: divide by zero encountered in log\n",
      "  log_rootP = np.log(self.root_probs)\n",
      "/opt/conda/lib/python3.10/site-packages/colaml/treeModels.py:369: RuntimeWarning: divide by zero encountered in log\n",
      "  log_rootP = np.log(self.root_probs)\n",
      "/opt/conda/lib/python3.10/site-packages/colaml/treeModels.py:369: RuntimeWarning: divide by zero encountered in log\n",
      "  log_rootP = np.log(self.root_probs)\n",
      "/opt/conda/lib/python3.10/site-packages/colaml/treeModels.py:369: RuntimeWarning: divide by zero encountered in log\n",
      "  log_rootP = np.log(self.root_probs)\n",
      "/opt/conda/lib/python3.10/site-packages/colaml/treeModels.py:369: RuntimeWarning: divide by zero encountered in log\n",
      "  log_rootP = np.log(self.root_probs)\n",
      "/opt/conda/lib/python3.10/site-packages/colaml/treeModels.py:369: RuntimeWarning: divide by zero encountered in log\n",
      "  log_rootP = np.log(self.root_probs)\n",
      "/opt/conda/lib/python3.10/site-packages/colaml/treeModels.py:369: RuntimeWarning: divide by zero encountered in log\n",
      "  log_rootP = np.log(self.root_probs)\n",
      "/opt/conda/lib/python3.10/site-packages/colaml/treeModels.py:369: RuntimeWarning: divide by zero encountered in log\n",
      "  log_rootP = np.log(self.root_probs)\n",
      "/opt/conda/lib/python3.10/site-packages/colaml/treeModels.py:369: RuntimeWarning: divide by zero encountered in log\n",
      "  log_rootP = np.log(self.root_probs)\n",
      "/opt/conda/lib/python3.10/site-packages/colaml/treeModels.py:369: RuntimeWarning: divide by zero encountered in log\n",
      "  log_rootP = np.log(self.root_probs)\n",
      "/opt/conda/lib/python3.10/site-packages/colaml/treeModels.py:369: RuntimeWarning: divide by zero encountered in log\n",
      "  log_rootP = np.log(self.root_probs)\n",
      "/opt/conda/lib/python3.10/site-packages/colaml/treeModels.py:369: RuntimeWarning: divide by zero encountered in log\n",
      "  log_rootP = np.log(self.root_probs)\n",
      "/opt/conda/lib/python3.10/site-packages/colaml/treeModels.py:369: RuntimeWarning: divide by zero encountered in log\n",
      "  log_rootP = np.log(self.root_probs)\n",
      "/opt/conda/lib/python3.10/site-packages/colaml/treeModels.py:369: RuntimeWarning: divide by zero encountered in log\n",
      "  log_rootP = np.log(self.root_probs)\n",
      "/opt/conda/lib/python3.10/site-packages/colaml/treeModels.py:369: RuntimeWarning: divide by zero encountered in log\n",
      "  log_rootP = np.log(self.root_probs)\n",
      "/opt/conda/lib/python3.10/site-packages/colaml/treeModels.py:369: RuntimeWarning: divide by zero encountered in log\n",
      "  log_rootP = np.log(self.root_probs)\n",
      "/opt/conda/lib/python3.10/site-packages/colaml/treeModels.py:369: RuntimeWarning: divide by zero encountered in log\n",
      "  log_rootP = np.log(self.root_probs)\n",
      "/opt/conda/lib/python3.10/site-packages/colaml/treeModels.py:369: RuntimeWarning: divide by zero encountered in log\n",
      "  log_rootP = np.log(self.root_probs)\n",
      "/opt/conda/lib/python3.10/site-packages/colaml/treeModels.py:369: RuntimeWarning: divide by zero encountered in log\n",
      "  log_rootP = np.log(self.root_probs)\n",
      "/opt/conda/lib/python3.10/site-packages/colaml/treeModels.py:369: RuntimeWarning: divide by zero encountered in log\n",
      "  log_rootP = np.log(self.root_probs)\n",
      "/opt/conda/lib/python3.10/site-packages/colaml/treeModels.py:369: RuntimeWarning: divide by zero encountered in log\n",
      "  log_rootP = np.log(self.root_probs)\n",
      "/opt/conda/lib/python3.10/site-packages/colaml/treeModels.py:369: RuntimeWarning: divide by zero encountered in log\n",
      "  log_rootP = np.log(self.root_probs)\n",
      "/opt/conda/lib/python3.10/site-packages/colaml/treeModels.py:369: RuntimeWarning: divide by zero encountered in log\n",
      "  log_rootP = np.log(self.root_probs)\n",
      "/opt/conda/lib/python3.10/site-packages/colaml/treeModels.py:369: RuntimeWarning: divide by zero encountered in log\n",
      "  log_rootP = np.log(self.root_probs)\n",
      "/opt/conda/lib/python3.10/site-packages/colaml/treeModels.py:369: RuntimeWarning: divide by zero encountered in log\n",
      "  log_rootP = np.log(self.root_probs)\n",
      "/opt/conda/lib/python3.10/site-packages/colaml/treeModels.py:369: RuntimeWarning: divide by zero encountered in log\n",
      "  log_rootP = np.log(self.root_probs)\n",
      "/opt/conda/lib/python3.10/site-packages/colaml/treeModels.py:369: RuntimeWarning: divide by zero encountered in log\n",
      "  log_rootP = np.log(self.root_probs)\n",
      "/opt/conda/lib/python3.10/site-packages/colaml/treeModels.py:369: RuntimeWarning: divide by zero encountered in log\n",
      "  log_rootP = np.log(self.root_probs)\n",
      "/opt/conda/lib/python3.10/site-packages/colaml/treeModels.py:369: RuntimeWarning: divide by zero encountered in log\n",
      "  log_rootP = np.log(self.root_probs)\n",
      "/opt/conda/lib/python3.10/site-packages/colaml/treeModels.py:369: RuntimeWarning: divide by zero encountered in log\n",
      "  log_rootP = np.log(self.root_probs)\n",
      "/opt/conda/lib/python3.10/site-packages/colaml/treeModels.py:369: RuntimeWarning: divide by zero encountered in log\n",
      "  log_rootP = np.log(self.root_probs)\n",
      "/opt/conda/lib/python3.10/site-packages/colaml/treeModels.py:369: RuntimeWarning: divide by zero encountered in log\n",
      "  log_rootP = np.log(self.root_probs)\n",
      "/opt/conda/lib/python3.10/site-packages/colaml/treeModels.py:369: RuntimeWarning: divide by zero encountered in log\n",
      "  log_rootP = np.log(self.root_probs)\n",
      "/opt/conda/lib/python3.10/site-packages/colaml/treeModels.py:369: RuntimeWarning: divide by zero encountered in log\n",
      "  log_rootP = np.log(self.root_probs)\n",
      "/opt/conda/lib/python3.10/site-packages/colaml/treeModels.py:369: RuntimeWarning: divide by zero encountered in log\n",
      "  log_rootP = np.log(self.root_probs)\n",
      "/opt/conda/lib/python3.10/site-packages/colaml/treeModels.py:369: RuntimeWarning: divide by zero encountered in log\n",
      "  log_rootP = np.log(self.root_probs)\n",
      "/opt/conda/lib/python3.10/site-packages/colaml/treeModels.py:369: RuntimeWarning: divide by zero encountered in log\n",
      "  log_rootP = np.log(self.root_probs)\n",
      "/opt/conda/lib/python3.10/site-packages/colaml/treeModels.py:369: RuntimeWarning: divide by zero encountered in log\n",
      "  log_rootP = np.log(self.root_probs)\n",
      "/opt/conda/lib/python3.10/site-packages/colaml/treeModels.py:369: RuntimeWarning: divide by zero encountered in log\n",
      "  log_rootP = np.log(self.root_probs)\n",
      "/opt/conda/lib/python3.10/site-packages/colaml/treeModels.py:369: RuntimeWarning: divide by zero encountered in log\n",
      "  log_rootP = np.log(self.root_probs)\n",
      "/opt/conda/lib/python3.10/site-packages/colaml/treeModels.py:369: RuntimeWarning: divide by zero encountered in log\n",
      "  log_rootP = np.log(self.root_probs)\n",
      "/opt/conda/lib/python3.10/site-packages/colaml/treeModels.py:369: RuntimeWarning: divide by zero encountered in log\n",
      "  log_rootP = np.log(self.root_probs)\n",
      "/opt/conda/lib/python3.10/site-packages/colaml/treeModels.py:369: RuntimeWarning: divide by zero encountered in log\n",
      "  log_rootP = np.log(self.root_probs)\n",
      "/opt/conda/lib/python3.10/site-packages/colaml/treeModels.py:369: RuntimeWarning: divide by zero encountered in log\n",
      "  log_rootP = np.log(self.root_probs)\n",
      "/opt/conda/lib/python3.10/site-packages/colaml/treeModels.py:369: RuntimeWarning: divide by zero encountered in log\n",
      "  log_rootP = np.log(self.root_probs)\n",
      "/opt/conda/lib/python3.10/site-packages/colaml/treeModels.py:369: RuntimeWarning: divide by zero encountered in log\n",
      "  log_rootP = np.log(self.root_probs)\n",
      "/opt/conda/lib/python3.10/site-packages/colaml/treeModels.py:369: RuntimeWarning: divide by zero encountered in log\n",
      "  log_rootP = np.log(self.root_probs)\n",
      "/opt/conda/lib/python3.10/site-packages/colaml/treeModels.py:369: RuntimeWarning: divide by zero encountered in log\n",
      "  log_rootP = np.log(self.root_probs)\n",
      "/opt/conda/lib/python3.10/site-packages/colaml/treeModels.py:369: RuntimeWarning: divide by zero encountered in log\n",
      "  log_rootP = np.log(self.root_probs)\n",
      "/opt/conda/lib/python3.10/site-packages/colaml/treeModels.py:369: RuntimeWarning: divide by zero encountered in log\n",
      "  log_rootP = np.log(self.root_probs)\n",
      "/opt/conda/lib/python3.10/site-packages/colaml/treeModels.py:369: RuntimeWarning: divide by zero encountered in log\n",
      "  log_rootP = np.log(self.root_probs)\n",
      "/opt/conda/lib/python3.10/site-packages/colaml/treeModels.py:369: RuntimeWarning: divide by zero encountered in log\n",
      "  log_rootP = np.log(self.root_probs)\n",
      "/opt/conda/lib/python3.10/site-packages/colaml/treeModels.py:369: RuntimeWarning: divide by zero encountered in log\n",
      "  log_rootP = np.log(self.root_probs)\n",
      "/opt/conda/lib/python3.10/site-packages/colaml/treeModels.py:369: RuntimeWarning: divide by zero encountered in log\n",
      "  log_rootP = np.log(self.root_probs)\n",
      "/opt/conda/lib/python3.10/site-packages/colaml/treeModels.py:369: RuntimeWarning: divide by zero encountered in log\n",
      "  log_rootP = np.log(self.root_probs)\n",
      "/opt/conda/lib/python3.10/site-packages/colaml/treeModels.py:369: RuntimeWarning: divide by zero encountered in log\n",
      "  log_rootP = np.log(self.root_probs)\n",
      "/opt/conda/lib/python3.10/site-packages/colaml/treeModels.py:369: RuntimeWarning: divide by zero encountered in log\n",
      "  log_rootP = np.log(self.root_probs)\n",
      "/opt/conda/lib/python3.10/site-packages/colaml/treeModels.py:369: RuntimeWarning: divide by zero encountered in log\n",
      "  log_rootP = np.log(self.root_probs)\n",
      "/opt/conda/lib/python3.10/site-packages/colaml/treeModels.py:369: RuntimeWarning: divide by zero encountered in log\n",
      "  log_rootP = np.log(self.root_probs)\n",
      "/opt/conda/lib/python3.10/site-packages/colaml/treeModels.py:369: RuntimeWarning: divide by zero encountered in log\n",
      "  log_rootP = np.log(self.root_probs)\n",
      "/opt/conda/lib/python3.10/site-packages/colaml/treeModels.py:369: RuntimeWarning: divide by zero encountered in log\n",
      "  log_rootP = np.log(self.root_probs)\n",
      "/opt/conda/lib/python3.10/site-packages/colaml/treeModels.py:369: RuntimeWarning: divide by zero encountered in log\n",
      "  log_rootP = np.log(self.root_probs)\n",
      "/opt/conda/lib/python3.10/site-packages/colaml/treeModels.py:369: RuntimeWarning: divide by zero encountered in log\n",
      "  log_rootP = np.log(self.root_probs)\n",
      "/opt/conda/lib/python3.10/site-packages/colaml/treeModels.py:369: RuntimeWarning: divide by zero encountered in log\n",
      "  log_rootP = np.log(self.root_probs)\n",
      "/opt/conda/lib/python3.10/site-packages/colaml/treeModels.py:369: RuntimeWarning: divide by zero encountered in log\n",
      "  log_rootP = np.log(self.root_probs)\n",
      "/opt/conda/lib/python3.10/site-packages/colaml/treeModels.py:369: RuntimeWarning: divide by zero encountered in log\n",
      "  log_rootP = np.log(self.root_probs)\n",
      "/opt/conda/lib/python3.10/site-packages/colaml/treeModels.py:369: RuntimeWarning: divide by zero encountered in log\n",
      "  log_rootP = np.log(self.root_probs)\n",
      "/opt/conda/lib/python3.10/site-packages/colaml/treeModels.py:369: RuntimeWarning: divide by zero encountered in log\n",
      "  log_rootP = np.log(self.root_probs)\n",
      "/opt/conda/lib/python3.10/site-packages/colaml/treeModels.py:369: RuntimeWarning: divide by zero encountered in log\n",
      "  log_rootP = np.log(self.root_probs)\n",
      "/opt/conda/lib/python3.10/site-packages/colaml/treeModels.py:369: RuntimeWarning: divide by zero encountered in log\n",
      "  log_rootP = np.log(self.root_probs)\n",
      "/opt/conda/lib/python3.10/site-packages/colaml/treeModels.py:369: RuntimeWarning: divide by zero encountered in log\n",
      "  log_rootP = np.log(self.root_probs)\n",
      "/opt/conda/lib/python3.10/site-packages/colaml/treeModels.py:369: RuntimeWarning: divide by zero encountered in log\n",
      "  log_rootP = np.log(self.root_probs)\n",
      "/opt/conda/lib/python3.10/site-packages/colaml/treeModels.py:369: RuntimeWarning: divide by zero encountered in log\n",
      "  log_rootP = np.log(self.root_probs)\n",
      "/opt/conda/lib/python3.10/site-packages/colaml/treeModels.py:369: RuntimeWarning: divide by zero encountered in log\n",
      "  log_rootP = np.log(self.root_probs)\n",
      "/opt/conda/lib/python3.10/site-packages/colaml/treeModels.py:369: RuntimeWarning: divide by zero encountered in log\n",
      "  log_rootP = np.log(self.root_probs)\n",
      "/opt/conda/lib/python3.10/site-packages/colaml/treeModels.py:369: RuntimeWarning: divide by zero encountered in log\n",
      "  log_rootP = np.log(self.root_probs)\n",
      "/opt/conda/lib/python3.10/site-packages/colaml/treeModels.py:369: RuntimeWarning: divide by zero encountered in log\n",
      "  log_rootP = np.log(self.root_probs)\n"
     ]
    }
   ],
   "source": [
    "with Pool(16) as pool:\n",
    "    recon_pcorrect = (\n",
    "        pd.concat(tqdm(map(pd.DataFrame, pool.imap(\n",
    "            batch_recon_pcorrect, \n",
    "            map(itemgetter(1), jobs.iterrows())\n",
    "        ))))\n",
    "        .reset_index(names='node')\n",
    "        .set_index(['conditionID','data_rep','fit_rep','node'])\n",
    "        .reset_index()\n",
    "    )"
   ]
  },
  {
   "cell_type": "code",
   "execution_count": 14,
   "id": "3b3ca69d-ba46-4ed3-b5c0-ee069a50f288",
   "metadata": {
    "tags": []
   },
   "outputs": [],
   "source": [
    "recon_pcorrect.to_pickle(DATA_DIR/'post-batch'/'01-simulation01'/'recon-accuracy.pkl.bz2')"
   ]
  },
  {
   "cell_type": "code",
   "execution_count": null,
   "id": "ab459fcb-ec49-49ae-ab6c-1d517ccec7ba",
   "metadata": {},
   "outputs": [],
   "source": []
  }
 ],
 "metadata": {
  "kernelspec": {
   "display_name": "Python 3 (ipykernel)",
   "language": "python",
   "name": "python3"
  },
  "language_info": {
   "codemirror_mode": {
    "name": "ipython",
    "version": 3
   },
   "file_extension": ".py",
   "mimetype": "text/x-python",
   "name": "python",
   "nbconvert_exporter": "python",
   "pygments_lexer": "ipython3",
   "version": "3.10.9"
  }
 },
 "nbformat": 4,
 "nbformat_minor": 5
}
