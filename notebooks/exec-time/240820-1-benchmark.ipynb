{
 "cells": [
  {
   "cell_type": "markdown",
   "id": "8fd5305d-a44b-42c5-ade9-1202264746de",
   "metadata": {
    "tags": []
   },
   "source": [
    "# Benchmarking"
   ]
  },
  {
   "cell_type": "markdown",
   "id": "d6e1fed9-b673-42bb-af7b-b12b1c28cdaf",
   "metadata": {},
   "source": [
    "## machine info"
   ]
  },
  {
   "cell_type": "code",
   "execution_count": 1,
   "id": "f0868d94-0705-424b-ab94-941f3b472d79",
   "metadata": {
    "tags": []
   },
   "outputs": [
    {
     "name": "stdout",
     "output_type": "stream",
     "text": [
      "Model name:                      Intel(R) Xeon(R) CPU E5-4627 v3 @ 2.60GHz\n",
      "Socket(s):                       4\n",
      "NUMA node(s):                    4\n",
      "NUMA node0 CPU(s):               0-9\n",
      "NUMA node1 CPU(s):               10-19\n",
      "NUMA node2 CPU(s):               20-29\n",
      "NUMA node3 CPU(s):               30-39\n"
     ]
    }
   ],
   "source": [
    "!lscpu | grep -i -e 'Model name' -e 'Socket(s)' -e 'numa'"
   ]
  },
  {
   "cell_type": "code",
   "execution_count": 2,
   "id": "b6a6d210-d47a-4938-b9c7-06532d9d16b7",
   "metadata": {
    "tags": []
   },
   "outputs": [
    {
     "name": "stdout",
     "output_type": "stream",
     "text": [
      "               total        used        free      shared     buffers       cache   available\n",
      "Mem:       528272404    17958956    86963236       27136       13844   423336368   507286632\n",
      "Swap:        2097148     1977548      119600\n"
     ]
    }
   ],
   "source": [
    "!free -w"
   ]
  },
  {
   "cell_type": "markdown",
   "id": "6c293fb2-acf5-49ea-94d7-a645aeea2d82",
   "metadata": {},
   "source": [
    "## run"
   ]
  },
  {
   "cell_type": "markdown",
   "id": "3df7226c-4e1e-4fbc-865a-be620a521d60",
   "metadata": {},
   "source": [
    "`singularity exec --home $(pwd):/home/jovyan singularity/sif/jupyter+colaml.6c01617 python3 notebooks/exec-time/240820-batch.py`\n"
   ]
  },
  {
   "cell_type": "code",
   "execution_count": 3,
   "id": "53aa18c8-dd8a-4670-a9b1-bad90903ab94",
   "metadata": {
    "tags": []
   },
   "outputs": [
    {
     "name": "stdout",
     "output_type": "stream",
     "text": [
      "import os\n",
      "import shlex\n",
      "import subprocess\n",
      "\n",
      "import numpy as np\n",
      "import pandas as pd\n",
      "from tqdm.auto import tqdm\n",
      "\n",
      "from myconfig import DATASET_DIR, ROOT_DIR\n",
      "SIM01_DIR = DATASET_DIR/'01-simulation01'\n",
      "OUT_FILE = ROOT_DIR/'results'/'simulation-exec-time.jsonl'\n",
      "\n",
      "os.chdir(os.path.dirname(__file__))\n",
      "\n",
      "# clear files\n",
      "subprocess.getoutput(f'> {OUT_FILE}')\n",
      "subprocess.getoutput('> 240820-bench.log')\n",
      "\n",
      "# machine info\n",
      "subprocess.getoutput(\"lscpu | grep -i -e 'Model name' -e 'Socket(s)' -e 'numa' >> 240820-bench.log\")\n",
      "subprocess.getoutput(\"free -w >> 240820-bench.log\")\n",
      "\n",
      "conditions = pd.read_csv(SIM01_DIR/'conditions.tsv', sep='\\t')\n",
      "conditions_rep = pd.merge(\n",
      "    conditions.assign(dummy=0), \n",
      "    pd.Series(range(1, 11), name='datarep').to_frame().assign(dummy=0), \n",
      "    on='dummy'\n",
      ").drop(columns='dummy')\n",
      "\n",
      "# randomize execution order　to average out external factors \n",
      "# such as CPU temperature and competing tasks\n",
      "perm_seed = 4242424242\n",
      "run_order = pd.concat([\n",
      "    conditions_rep.sample(frac=1, random_state=np.array([perm_seed, i])).assign(runrep=i)\n",
      "    for i in range(1, 11)\n",
      "]).rename_axis('dataID').reset_index()\n",
      "\n",
      "# run bench\n",
      "for run in tqdm(run_order.itertuples(index=False)):\n",
      "    args = ' '.join(map(str, run))\n",
      "    cmd = f\"\"\"\n",
      "    (PS4='$(date -Iseconds) '; set -x; python3 benchmark.py {args} >> {OUT_FILE}) >> 240820-bench.log 2>&1\n",
      "    \"\"\"\n",
      "    subprocess.getoutput(cmd)\n",
      "    "
     ]
    }
   ],
   "source": [
    "!cat 240820-batch.py"
   ]
  },
  {
   "cell_type": "code",
   "execution_count": 4,
   "id": "38b8ed4f-bd57-42c8-9354-fb9c935af984",
   "metadata": {
    "tags": []
   },
   "outputs": [
    {
     "name": "stdout",
     "output_type": "stream",
     "text": [
      "import os\n",
      "\n",
      "# limit numpy/scipy threads\n",
      "os.environ['OPENBLAS_NUM_THREADS'] \\\n",
      "= os.environ['MKL_NUM_THREADS'] \\\n",
      "= os.environ['VECLIB_NUM_THREADS'] \\\n",
      "= os.environ['OMP_NUM_THREADS'] \\\n",
      "= os.environ['NUMEXPR_NUM_THREADS'] \\\n",
      "= '1'\n",
      "\n",
      "# limit numba threads\n",
      "os.environ['NUMBA_DISABLE_JIT'] = '1'\n",
      "os.environ['NUMBA_NUM_THREADS'] = '1'\n",
      "\n",
      "# process on a single NUMA node\n",
      "import psutil\n",
      "p = psutil.Process(os.getpid())\n",
      "p.cpu_affinity(cpus=range(10, 20))\n",
      "\n",
      "# make sure numpy is working on a single thread\n",
      "from threadpoolctl import threadpool_limits\n",
      "threadpool_limits(1)\n",
      "\n",
      "import argparse\n",
      "import json\n",
      "import time\n",
      "import traceback\n",
      "import warnings\n",
      "\n",
      "import numba\n",
      "import numpy as np\n",
      "\n",
      "from colaml import *\n",
      "from colaml.__main__ import phytbl_from_json\n",
      "from myconfig import DATASET_DIR, ROOT_DIR\n",
      "SIM01_DIR = DATASET_DIR/'01-simulation01'\n",
      "\n",
      "parser = argparse.ArgumentParser()\n",
      "parser.add_argument('dataID' , type=int)\n",
      "parser.add_argument('conditionID')\n",
      "parser.add_argument('lmax'   , type=int)\n",
      "parser.add_argument('ncat'   , type=int)\n",
      "parser.add_argument('ntips'  , type=int)\n",
      "parser.add_argument('nOGs'   , type=int)\n",
      "parser.add_argument('datarep', type=int)\n",
      "parser.add_argument('runrep' , type=int)\n",
      "    \n",
      "class Timer():\n",
      "    def __enter__(self):\n",
      "        self._proc_start = time.process_time()\n",
      "        self._perf_start = time.perf_counter()\n",
      "        return self\n",
      "    \n",
      "    def __exit__(self, exc_type, exc_value, traceback):\n",
      "        self._proc_end = time.process_time()\n",
      "        self._perf_end = time.perf_counter()\n",
      "        \n",
      "    def get(self):\n",
      "        return dict(\n",
      "            process_time = self._proc_end - self._proc_start, \n",
      "            perf_counter = self._perf_end - self._perf_start, \n",
      "        )\n",
      "\n",
      "ROOT_SEED = 9768652837\n",
      "\n",
      "def bench(run):\n",
      "    path = SIM01_DIR/run.conditionID/f'{run.conditionID}-rep{run.datarep:02d}.json.gz'\n",
      "    phytbl, columns = phytbl_from_json(path, run.lmax)\n",
      "    approx_rate = phytbl.min_changes.mean() / phytbl.tree.branch_lengths.sum()\n",
      "    distr_kw = dict(\n",
      "        cpy_root_probs=np.ones(run.lmax + 1), \n",
      "        cat_root_probs=np.ones(run.ncat), \n",
      "        cpy_change_rates=(2, approx_rate / 2),\n",
      "        cat_switch_rates=(3, approx_rate / 3 * 0.1),\n",
      "    )\n",
      "\n",
      "    mmm = MarkovModulatedTreeModel(\n",
      "        run.lmax+1, run.ncat, MarkovModulatedBDARD, \n",
      "        init_params_method='skip'\n",
      "    )\n",
      "    \n",
      "    for trial in range(3):\n",
      "        try:\n",
      "            rng = np.random.default_rng([ROOT_SEED, run.dataID, trial])\n",
      "            mmm.init_params_random(rng=rng, distr_kw=distr_kw)\n",
      "            with Timer() as timer:\n",
      "                mmm.fit(phytbl, method='EM', max_rounds=50, show_progress=False, stop_criteria=(0,0))\n",
      "        except Exception as err:\n",
      "            warnings.warn(f'In {run}, trial#{trial+1}\\n'+traceback.format_exc())\n",
      "            continue\n",
      "        else:\n",
      "            return vars(run) | dict(trial=trial) | timer.get()\n",
      "    else:\n",
      "        raise RuntimeError(f'fitting failure possibly due to numerical issues\\nIn {run}.')\n",
      "    \n",
      "if __name__ == '__main__':\n",
      "    run = parser.parse_args()\n",
      "    result = bench(run)\n",
      "    print(json.dumps(result))\n"
     ]
    }
   ],
   "source": [
    "!cat benchmark.py"
   ]
  },
  {
   "cell_type": "code",
   "execution_count": 5,
   "id": "0a011293-5d60-4285-b8dd-026475e1a9a6",
   "metadata": {
    "tags": []
   },
   "outputs": [
    {
     "name": "stdout",
     "output_type": "stream",
     "text": [
      "Model name:                      Intel(R) Xeon(R) CPU E5-4627 v3 @ 2.60GHz\n",
      "Socket(s):                       4\n",
      "NUMA node(s):                    4\n",
      "NUMA node0 CPU(s):               0-9\n",
      "NUMA node1 CPU(s):               10-19\n",
      "NUMA node2 CPU(s):               20-29\n",
      "NUMA node3 CPU(s):               30-39\n",
      "               total        used        free      shared     buffers       cache   available\n",
      "Mem:       528272404    13629148    91705540       27156       13844   422923872   511616488\n",
      "Swap:        2097148     1977548      119600\n"
     ]
    }
   ],
   "source": [
    "!cat 240820-bench.log | grep -ve '^2024-08-'"
   ]
  },
  {
   "cell_type": "code",
   "execution_count": null,
   "id": "c4f0c3b3-e3c1-44f2-ac29-cf4ec1bae1ed",
   "metadata": {},
   "outputs": [],
   "source": []
  }
 ],
 "metadata": {
  "kernelspec": {
   "display_name": "Python 3 (ipykernel)",
   "language": "python",
   "name": "python3"
  },
  "language_info": {
   "codemirror_mode": {
    "name": "ipython",
    "version": 3
   },
   "file_extension": ".py",
   "mimetype": "text/x-python",
   "name": "python",
   "nbconvert_exporter": "python",
   "pygments_lexer": "ipython3",
   "version": "3.10.9"
  }
 },
 "nbformat": 4,
 "nbformat_minor": 5
}
